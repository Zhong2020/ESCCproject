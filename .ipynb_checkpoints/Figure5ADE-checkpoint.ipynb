{
 "cells": [
  {
   "cell_type": "code",
   "execution_count": 1,
   "metadata": {},
   "outputs": [],
   "source": [
    "antigen=read.table(\"H:/immune/antigen/APM genes' genomic changes.txt\",sep=\"\\t\",header=TRUE,row.names=1, stringsAsFactor=FALSE)"
   ]
  },
  {
   "cell_type": "code",
   "execution_count": 2,
   "metadata": {},
   "outputs": [],
   "source": [
    "antigen[antigen==\"Down; Del\"]=\"DelDown;\"\n",
    "antigen[antigen!=\"DelDown;\"]=\"\""
   ]
  },
  {
   "cell_type": "code",
   "execution_count": 3,
   "metadata": {},
   "outputs": [],
   "source": [
    "antigen[is.na(antigen)]=\"\""
   ]
  },
  {
   "cell_type": "code",
   "execution_count": 4,
   "metadata": {},
   "outputs": [
    {
     "name": "stderr",
     "output_type": "stream",
     "text": [
      "Loading required package: grid\n",
      "\n",
      "========================================\n",
      "ComplexHeatmap version 2.3.4\n",
      "Bioconductor page: http://bioconductor.org/packages/ComplexHeatmap/\n",
      "Github page: https://github.com/jokergoo/ComplexHeatmap\n",
      "Documentation: http://jokergoo.github.io/ComplexHeatmap-reference\n",
      "\n",
      "If you use it in published research, please cite:\n",
      "Gu, Z. Complex heatmaps reveal patterns and correlations in multidimensional \n",
      "  genomic data. Bioinformatics 2016.\n",
      "\n",
      "This message can be suppressed by:\n",
      "  suppressPackageStartupMessages(library(ComplexHeatmap))\n",
      "========================================\n",
      "\n",
      "\n"
     ]
    }
   ],
   "source": [
    "library(ComplexHeatmap)\n",
    "alter_fun = list(\n",
    "    background = function(x, y, w, h) {\n",
    "        grid.rect(x, y, w-unit(0.5, \"mm\"), h-unit(0.5, \"mm\"), gp = gpar(fill = \"#DDDDDD\", col = NA))\n",
    "    },  \n",
    "    MutDown = function(x, y, w, h) {\n",
    "        grid.rect(x, y, w-unit(0.5, \"mm\"), h-unit(0.5, \"mm\"), gp = gpar(fill = \"#6baeda\", col = NA))\n",
    "    },\n",
    "    \n",
    "    DelDown= function(x, y, w, h) {\n",
    "        grid.rect(x, y, w-unit(0.5, \"mm\"), h-unit(0.5, \"mm\"), gp = gpar(fill = \"#ff000a\", col = NA))\n",
    "    }\n",
    "    \n",
    ")"
   ]
  },
  {
   "cell_type": "code",
   "execution_count": 5,
   "metadata": {},
   "outputs": [],
   "source": [
    "col = c(\"DelDown\" = \"#ff000a\",  \"MutDown\" = \"#6baeda\")"
   ]
  },
  {
   "cell_type": "code",
   "execution_count": 6,
   "metadata": {},
   "outputs": [],
   "source": [
    "col_bar=colSums(antigen==\"DelDown;\")\n",
    "row_bar=rowSums(antigen==\"DelDown;\")"
   ]
  },
  {
   "cell_type": "code",
   "execution_count": 7,
   "metadata": {},
   "outputs": [],
   "source": [
    "antigen=antigen[row_bar > 0,]\n",
    "col_bar=colSums(antigen==\"DelDown;\")\n",
    "row_bar=rowSums(antigen==\"DelDown;\")"
   ]
  },
  {
   "cell_type": "code",
   "execution_count": 8,
   "metadata": {},
   "outputs": [
    {
     "name": "stderr",
     "output_type": "stream",
     "text": [
      "Warning message:\n",
      "\"package 'circlize' was built under R version 3.6.3\"\n",
      "========================================\n",
      "circlize version 0.4.8\n",
      "CRAN page: https://cran.r-project.org/package=circlize\n",
      "Github page: https://github.com/jokergoo/circlize\n",
      "Documentation: http://jokergoo.github.io/circlize_book/book/\n",
      "\n",
      "If you use it in published research, please cite:\n",
      "Gu, Z. circlize implements and enhances circular visualization \n",
      "  in R. Bioinformatics 2014.\n",
      "========================================\n",
      "\n",
      "\n",
      "All mutation types: DelDown\n",
      "\n"
     ]
    },
    {
     "data": {
      "image/png": "[encoded data removed]",
      "text/plain": [
       "plot without title"
      ]
     },
     "metadata": {
      "image/png": {
       "height": 300,
       "width": 480
      },
      "text/plain": {
       "height": 300,
       "width": 480
      }
     },
     "output_type": "display_data"
    }
   ],
   "source": [
    "library(circlize)\n",
    "col_fun = colorRamp2(c(0, 10), c(\"white\", \"blue\"))\n",
    "\n",
    "\n",
    "options(repr.plot.width=8,repr.plot.height=5)\n",
    "oncoPrint(antigen, get_type = function(x) strsplit(x, \";\")[[1]],\n",
    "    alter_fun = alter_fun, col = col,show_pct=FALSE,\n",
    "    column_title = \"Alterations in APM genes\",\n",
    "    row_order=order(row_bar,decreasing = TRUE),\n",
    "    column_order=order(col_bar,decreasing =TRUE),\n",
    "           row_names_gp = gpar(fontsize = 8),\n",
    "    #       pct_side = \"right\", row_names_side = \"left\",\n",
    "    heatmap_legend_param = list(title = \"Alternations\", at = c(\"DelDown\",\"MutDown\"), \n",
    "                                labels = c(\"Strong Defect\", \"Mutation+Downregulation\")),\n",
    "    top_annotation = NULL,\n",
    "    bottom_annotation = HeatmapAnnotation(bar=anno_barplot(col_bar,border=FALSE,height = unit(2, \"cm\"),\n",
    "                                                          gp = gpar(col = \"white\", fill = \"#3182bd\")),\n",
    "                                          annotation_label=\"Count\",\n",
    "                                         show_annotation_name=FALSE), \n",
    "    \n",
    "    \n",
    "    right_annotation = rowAnnotation(Defect=anno_barplot(row_bar,border=FALSE,width = unit(3, \"cm\"),\n",
    "                                                       axis_param = list(side = \"top\", labels_rot = 0),\n",
    "                                                         label_param=list(side = \"top\"),\n",
    "                                                        gp = gpar(col = \"white\", fill = \"#3182bd\")),\n",
    "                                    annotation_name_side = \"top\",\n",
    "                                    annotation_label=\"Defected Samples\"),    \n",
    ")"
   ]
  },
  {
   "cell_type": "code",
   "execution_count": 9,
   "metadata": {},
   "outputs": [
    {
     "name": "stderr",
     "output_type": "stream",
     "text": [
      "All mutation types: DelDown\n",
      "\n"
     ]
    },
    {
     "data": {
      "text/html": [
       "<strong>png:</strong> 2"
      ],
      "text/latex": [
       "\\textbf{png:} 2"
      ],
      "text/markdown": [
       "**png:** 2"
      ],
      "text/plain": [
       "png \n",
       "  2 "
      ]
     },
     "metadata": {},
     "output_type": "display_data"
    }
   ],
   "source": [
    "pdf(\"Fig5A.pdf\",width=8,height=5)\n",
    "oncoPrint(antigen, get_type = function(x) strsplit(x, \";\")[[1]],\n",
    "    alter_fun = alter_fun, col = col,show_pct=FALSE,\n",
    "    column_title = \"Alterations in APM genes\",\n",
    "    row_order=order(row_bar,decreasing = TRUE),\n",
    "    column_order=order(col_bar,decreasing =TRUE),\n",
    "           row_names_gp = gpar(fontsize = 8),\n",
    "    #       pct_side = \"right\", row_names_side = \"left\",\n",
    "    heatmap_legend_param = list(title = \"Alternations\", at = c(\"DelDown\",\"MutDown\"), \n",
    "                                labels = c(\"Strong Defect\", \"Mutation+Downregulation\")),\n",
    "    top_annotation = NULL,\n",
    "    bottom_annotation = HeatmapAnnotation(bar=anno_barplot(col_bar,border=FALSE,height = unit(2, \"cm\"),\n",
    "                                                          gp = gpar(col = \"white\", fill = \"#3182bd\")),\n",
    "                                          annotation_label=\"Count\",\n",
    "                                         show_annotation_name=FALSE), \n",
    "    \n",
    "    \n",
    "    right_annotation = rowAnnotation(Defect=anno_barplot(row_bar,border=FALSE,width = unit(3, \"cm\"),\n",
    "                                                       axis_param = list(side = \"top\", labels_rot = 0),\n",
    "                                                         label_param=list(side = \"top\"),\n",
    "                                                        gp = gpar(col = \"white\", fill = \"#3182bd\")),\n",
    "                                    annotation_name_side = \"top\",\n",
    "                                    annotation_label=\"Defected Samples\"),    \n",
    ")\n",
    "dev.off()"
   ]
  },
  {
   "cell_type": "code",
   "execution_count": null,
   "metadata": {},
   "outputs": [],
   "source": []
  }
 ],
 "metadata": {
  "kernelspec": {
   "display_name": "R",
   "language": "R",
   "name": "ir"
  },
  "language_info": {
   "codemirror_mode": "r",
   "file_extension": ".r",
   "mimetype": "text/x-r-source",
   "name": "R",
   "pygments_lexer": "r",
   "version": "3.6.1"
  }
 },
 "nbformat": 4,
 "nbformat_minor": 4
}
