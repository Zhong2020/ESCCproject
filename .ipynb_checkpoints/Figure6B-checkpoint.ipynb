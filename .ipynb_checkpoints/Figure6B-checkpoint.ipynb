{
 "cells": [
  {
   "cell_type": "code",
   "execution_count": 1,
   "metadata": {},
   "outputs": [
    {
     "name": "stderr",
     "output_type": "stream",
     "text": [
      "Warning message:\n",
      "\"package 'survival' was built under R version 3.6.3\"\n",
      "Loading required package: ggplot2\n",
      "\n",
      "Warning message:\n",
      "\"package 'ggplot2' was built under R version 3.6.3\"\n",
      "Loading required package: ggpubr\n",
      "\n",
      "Warning message:\n",
      "\"package 'ggpubr' was built under R version 3.6.3\"\n",
      "Loading required package: magrittr\n",
      "\n"
     ]
    }
   ],
   "source": [
    "library(survival)\n",
    "library(survminer)\n",
    "library(ggplot2)"
   ]
  },
  {
   "cell_type": "code",
   "execution_count": 2,
   "metadata": {},
   "outputs": [],
   "source": [
    "load(\"C:/Users/wzhiz/Documents/GitHub/notebooks/data/Fig6_B.rdata\")"
   ]
  },
  {
   "cell_type": "markdown",
   "metadata": {},
   "source": [
    "## calculate nklike and immune evasion"
   ]
  },
  {
   "cell_type": "code",
   "execution_count": 3,
   "metadata": {},
   "outputs": [],
   "source": [
    "clinic$nklike=(clinic$NK*2+clinic$CD160)/3\n",
    "clinic$immune_evasion=rep(\"High\",nrow(clinic))\n",
    "clinic$immune_evasion[(clinic$hlaloh==0 & clinic$antigen.defect ==0) |clinic$nklike <= median(clinic$nklike)]=\"Low\""
   ]
  },
  {
   "cell_type": "code",
   "execution_count": 4,
   "metadata": {},
   "outputs": [],
   "source": [
    "#immune_evasion and clonal_neoantigens\n",
    "clinic$immune_evasion_clonal_neo=rep(-1,nrow(clinic))\n",
    "clinic$immune_evasion_clonal_neo[clinic$clonal.neoantigen > median(clinic$clonal.neoantigen) &\n",
    "                                 clinic$immune_evasion ==\"Low\"]=0\n",
    "clinic$immune_evasion_clonal_neo[clinic$clonal.neoantigen <= median(clinic$clonal.neoantigen) & \n",
    "                                 clinic$immune_evasion ==\"High\"]=1"
   ]
  },
  {
   "cell_type": "code",
   "execution_count": 5,
   "metadata": {},
   "outputs": [
    {
     "data": {
      "text/plain": [
       "Call:\n",
       "coxph(formula = Surv(clinic1$followe.up..years., clinic1$is_dead) ~ \n",
       "    immune_evasion + drink + smoke + sex + age + T_stage + G_stage, \n",
       "    data = clinic1)\n",
       "\n",
       "  n= 102, number of events= 52 \n",
       "   (1 observation deleted due to missingness)\n",
       "\n",
       "                       coef exp(coef) se(coef)      z Pr(>|z|)  \n",
       "immune_evasionHigh  0.70272   2.01925  0.29290  2.399   0.0164 *\n",
       "drink              -0.30291   0.73867  0.25159 -1.204   0.2286  \n",
       "smoke              -0.07991   0.92320  0.36778 -0.217   0.8280  \n",
       "sex                -0.37105   0.69001  0.42083 -0.882   0.3779  \n",
       "age                -0.01065   0.98940  0.02142 -0.497   0.6189  \n",
       "T_stage             0.34327   1.40956  0.32407  1.059   0.2895  \n",
       "G_stage             0.29589   1.34432  0.23935  1.236   0.2164  \n",
       "---\n",
       "Signif. codes:  0 '***' 0.001 '**' 0.01 '*' 0.05 '.' 0.1 ' ' 1\n",
       "\n",
       "                   exp(coef) exp(-coef) lower .95 upper .95\n",
       "immune_evasionHigh    2.0192     0.4952    1.1373     3.585\n",
       "drink                 0.7387     1.3538    0.4511     1.209\n",
       "smoke                 0.9232     1.0832    0.4490     1.898\n",
       "sex                   0.6900     1.4493    0.3024     1.574\n",
       "age                   0.9894     1.0107    0.9487     1.032\n",
       "T_stage               1.4096     0.7094    0.7468     2.660\n",
       "G_stage               1.3443     0.7439    0.8409     2.149\n",
       "\n",
       "Concordance= 0.629  (se = 0.043 )\n",
       "Likelihood ratio test= 9.9  on 7 df,   p=0.2\n",
       "Wald test            = 9.05  on 7 df,   p=0.2\n",
       "Score (logrank) test = 8.96  on 7 df,   p=0.3\n"
      ]
     },
     "metadata": {},
     "output_type": "display_data"
    }
   ],
   "source": [
    "clinic1=clinic\n",
    "clinic1$immune_evasion=factor(clinic1$immune_evasion,levels=c(\"Low\",\"High\"))\n",
    "summary(coxph(Surv(clinic1$followe.up..years.,clinic1$is_dead)~immune_evasion+drink+smoke+sex+age+T_stage+G_stage,clinic1))"
   ]
  },
  {
   "cell_type": "code",
   "execution_count": 6,
   "metadata": {},
   "outputs": [
    {
     "name": "stderr",
     "output_type": "stream",
     "text": [
      "Warning message:\n",
      "\"Vectorized input to `element_text()` is not officially supported.\n",
      "Results may be unexpected or may change in future versions of ggplot2.\"\n"
     ]
    },
    {
     "data": {
      "image/png": "[encoded data removed]",
      "text/plain": [
       "plot without title"
      ]
     },
     "metadata": {
      "image/png": {
       "height": 420,
       "width": 420
      },
      "text/plain": {
       "height": 420,
       "width": 420
      }
     },
     "output_type": "display_data"
    }
   ],
   "source": [
    "p1=ggsurvplot(survfit(Surv(clinic1$followe.up..years.,clinic1$is_dead)~immune_evasion,clinic1),\n",
    "             pval=\"log rank p = 0.016\\nHR = 2.019(1.137 - 3.585)\", legend=\"none\",\n",
    "             xlab=\"time(years)\",palette = c(\"blue\",\"red\"),pval.size = 6,\n",
    "             font.x=c(20),font.y=c(20),font.xtickslab = c(20),font.ytickslab = c(20),font.legend=c(18), \n",
    "             risk.table = TRUE, risk.table.height=0.2,\n",
    "             risk.table.title=\"\",risk.table.col = \"strata\",risk.table.y.text=FALSE,\n",
    "             tables.theme=theme(axis.title.x=element_blank(),\n",
    "                               axis.text.x=element_blank(),\n",
    "                               axis.title.y=element_blank(),\n",
    "                               axis.line = element_blank(),\n",
    "                               axis.ticks=element_blank(), legend.position = \"none\"))\n",
    "p1"
   ]
  },
  {
   "cell_type": "code",
   "execution_count": 7,
   "metadata": {},
   "outputs": [],
   "source": [
    "#  immune evasion and  effective neoantigens\n",
    "clinic$immune_evasion_effective_neo=rep(-1,nrow(clinic))\n",
    "\n",
    "clinic$immune_evasion_effective_neo[clinic$effective_neoantigen > median(clinic$effective_neoantigen) &\n",
    "                                    clinic$immune_evasion ==\"Low\"]=0\n",
    "clinic$immune_evasion_effective_neo[clinic$effective_neoantigen <= median(clinic$effective_neoantigen) &\n",
    "                                    clinic$immune_evasion ==\"High\"]=1\n",
    "\n",
    "# immune evasion and ITH\n",
    "clinic$immune_evasion_shannon=rep(-1,nrow(clinic))\n",
    "\n",
    "clinic$immune_evasion_shannon[clinic$shannon.index < median(clinic$shannon.index) &\n",
    "                                    clinic$immune_evasion ==\"Low\"]=0\n",
    "clinic$immune_evasion_shannon[clinic$shannon.index > median(clinic$shannon.index) &\n",
    "                                    clinic$immune_evasion ==\"High\"]=1\n",
    "\n",
    "# immune evasion and raw neoantigens\n",
    "clinic$immune_evasion_raw_neo=rep(-1,nrow(clinic))\n",
    "clinic$immune_evasion_raw_neo[clinic$raw_neoantigen > median(clinic$raw_neoantigen) &\n",
    "                                 clinic$immune_evasion ==\"Low\"]=0\n",
    "clinic$immune_evasion_raw_neo[clinic$raw_neoantigen <= median(clinic$raw_neoantigen) & \n",
    "                                 clinic$immune_evasion ==\"High\"]=1"
   ]
  },
  {
   "cell_type": "code",
   "execution_count": 8,
   "metadata": {},
   "outputs": [
    {
     "data": {
      "text/plain": [
       "Call:\n",
       "coxph(formula = Surv(dat$followe.up..years., dat$is_dead) ~ immune_evasion_clonal_neo + \n",
       "    drink + smoke + sex + age + T_stage + G_stage, data = dat)\n",
       "\n",
       "  n= 50, number of events= 24 \n",
       "\n",
       "                               coef exp(coef) se(coef)      z Pr(>|z|)   \n",
       "immune_evasion_clonal_neo1  1.48519   4.41581  0.45934  3.233  0.00122 **\n",
       "drink                       0.11011   1.11640  0.39321  0.280  0.77946   \n",
       "smoke                      -0.51528   0.59733  0.66274 -0.777  0.43687   \n",
       "sex                        -0.50528   0.60334  0.64331 -0.785  0.43220   \n",
       "age                        -0.02902   0.97140  0.03444 -0.843  0.39944   \n",
       "T_stage                     0.32979   1.39068  0.44499  0.741  0.45863   \n",
       "G_stage                     0.16253   1.17648  0.22420  0.725  0.46850   \n",
       "---\n",
       "Signif. codes:  0 '***' 0.001 '**' 0.01 '*' 0.05 '.' 0.1 ' ' 1\n",
       "\n",
       "                           exp(coef) exp(-coef) lower .95 upper .95\n",
       "immune_evasion_clonal_neo1    4.4158     0.2265    1.7948    10.864\n",
       "drink                         1.1164     0.8957    0.5166     2.413\n",
       "smoke                         0.5973     1.6741    0.1630     2.189\n",
       "sex                           0.6033     1.6574    0.1710     2.129\n",
       "age                           0.9714     1.0294    0.9080     1.039\n",
       "T_stage                       1.3907     0.7191    0.5814     3.327\n",
       "G_stage                       1.1765     0.8500    0.7581     1.826\n",
       "\n",
       "Concordance= 0.719  (se = 0.051 )\n",
       "Likelihood ratio test= 14.57  on 7 df,   p=0.04\n",
       "Wald test            = 12.43  on 7 df,   p=0.09\n",
       "Score (logrank) test = 14.36  on 7 df,   p=0.05\n"
      ]
     },
     "metadata": {},
     "output_type": "display_data"
    }
   ],
   "source": [
    "dat=subset(clinic,immune_evasion_clonal_neo!=-1)\n",
    "dat$immune_evasion_clonal_neo=factor(dat$immune_evasion_clonal_neo)\n",
    "summary(coxph(Surv(dat$followe.up..years.,dat$is_dead)~immune_evasion_clonal_neo+drink+smoke+sex+age+T_stage+G_stage,dat))"
   ]
  },
  {
   "cell_type": "code",
   "execution_count": 9,
   "metadata": {},
   "outputs": [
    {
     "name": "stderr",
     "output_type": "stream",
     "text": [
      "Warning message:\n",
      "\"Vectorized input to `element_text()` is not officially supported.\n",
      "Results may be unexpected or may change in future versions of ggplot2.\"\n"
     ]
    },
    {
     "data": {
      "image/png": "[encoded data removed]",
      "text/plain": [
       "plot without title"
      ]
     },
     "metadata": {
      "image/png": {
       "height": 300,
       "width": 300
      },
      "text/plain": {
       "height": 300,
       "width": 300
      }
     },
     "output_type": "display_data"
    }
   ],
   "source": [
    "p2=ggsurvplot(survfit(Surv(dat$followe.up..years.,dat$is_dead)~immune_evasion_clonal_neo,dat),\n",
    "              pval=\"log rank p = 0.001\\nHR = 4.416(1.795 - 10.864)\", legend=\"none\",\n",
    "              xlab=\"time(years)\",palette = c(\"blue\",\"red\"),pval.size = 6,\n",
    "              font.x=c(20),font.y=c(20),font.xtickslab = c(20),font.ytickslab = c(20),font.legend=c(18), \n",
    "              risk.table = TRUE, risk.table.height=0.2,\n",
    "              risk.table.title=\"\",risk.table.col = \"strata\",risk.table.y.text=FALSE,\n",
    "              tables.theme=theme(axis.title.x=element_blank(),\n",
    "                               axis.text.x=element_blank(),\n",
    "                               axis.title.y=element_blank(),\n",
    "                               axis.line = element_blank(),\n",
    "                               axis.ticks=element_blank(), legend.position = \"none\"))\n",
    "options(repr.plot.height=5,repr.plot.width=5)\n",
    "p2\n"
   ]
  },
  {
   "cell_type": "code",
   "execution_count": 10,
   "metadata": {},
   "outputs": [
    {
     "data": {
      "text/plain": [
       "Call:\n",
       "coxph(formula = Surv(dat$followe.up..years., dat$is_dead) ~ immune_evasion_raw_neo + \n",
       "    drink + smoke + sex + age + T_stage + G_stage, data = dat)\n",
       "\n",
       "  n= 46, number of events= 20 \n",
       "\n",
       "                            coef exp(coef) se(coef)      z Pr(>|z|)   \n",
       "immune_evasion_raw_neo1  1.39648   4.04096  0.50330  2.775  0.00553 **\n",
       "drink                   -0.23121   0.79357  0.44498 -0.520  0.60334   \n",
       "smoke                   -0.01063   0.98942  0.60582 -0.018  0.98600   \n",
       "sex                     -0.53630   0.58491  0.81226 -0.660  0.50909   \n",
       "age                     -0.02699   0.97337  0.03676 -0.734  0.46283   \n",
       "T_stage                  0.75521   2.12805  0.61703  1.224  0.22097   \n",
       "G_stage                  0.07775   1.08085  0.24841  0.313  0.75430   \n",
       "---\n",
       "Signif. codes:  0 '***' 0.001 '**' 0.01 '*' 0.05 '.' 0.1 ' ' 1\n",
       "\n",
       "                        exp(coef) exp(-coef) lower .95 upper .95\n",
       "immune_evasion_raw_neo1    4.0410     0.2475    1.5069    10.837\n",
       "drink                      0.7936     1.2601    0.3318     1.898\n",
       "smoke                      0.9894     1.0107    0.3018     3.244\n",
       "sex                        0.5849     1.7097    0.1190     2.874\n",
       "age                        0.9734     1.0274    0.9057     1.046\n",
       "T_stage                    2.1281     0.4699    0.6350     7.132\n",
       "G_stage                    1.0808     0.9252    0.6642     1.759\n",
       "\n",
       "Concordance= 0.716  (se = 0.054 )\n",
       "Likelihood ratio test= 12.22  on 7 df,   p=0.09\n",
       "Wald test            = 10.62  on 7 df,   p=0.2\n",
       "Score (logrank) test = 11.6  on 7 df,   p=0.1\n"
      ]
     },
     "metadata": {},
     "output_type": "display_data"
    }
   ],
   "source": [
    "dat=subset(clinic,immune_evasion_raw_neo!=-1)\n",
    "dat$immune_evasion_raw_neo=factor(dat$immune_evasion_raw_neo)\n",
    "summary(coxph(Surv(dat$followe.up..years.,dat$is_dead)~immune_evasion_raw_neo+drink+smoke+sex+age+T_stage+G_stage,dat))"
   ]
  },
  {
   "cell_type": "code",
   "execution_count": 11,
   "metadata": {},
   "outputs": [
    {
     "name": "stderr",
     "output_type": "stream",
     "text": [
      "Warning message:\n",
      "\"Vectorized input to `element_text()` is not officially supported.\n",
      "Results may be unexpected or may change in future versions of ggplot2.\"\n"
     ]
    },
    {
     "data": {
      "image/png": "[encoded data removed]",
      "text/plain": [
       "plot without title"
      ]
     },
     "metadata": {
      "image/png": {
       "height": 300,
       "width": 300
      },
      "text/plain": {
       "height": 300,
       "width": 300
      }
     },
     "output_type": "display_data"
    }
   ],
   "source": [
    "p3=ggsurvplot(survfit(Surv(dat$followe.up..years.,dat$is_dead)~immune_evasion_raw_neo,dat),\n",
    "              pval=\"log rank p = 0.006\\nHR = 4.0410(1.507 - 10.837)\",\n",
    "              legend=\"none\",\n",
    "              xlab=\"time(years)\",palette = c(\"blue\",\"red\"),pval.size = 6,\n",
    "              font.x=c(20),font.y=c(20),font.xtickslab = c(20),font.ytickslab = c(20),font.legend=c(18), \n",
    "              risk.table = TRUE, risk.table.height=0.2,\n",
    "              risk.table.title=\"\",risk.table.col = \"strata\",risk.table.y.text=FALSE,\n",
    "              tables.theme=theme(axis.title.x=element_blank(),\n",
    "                               axis.text.x=element_blank(),\n",
    "                               axis.title.y=element_blank(),\n",
    "                               axis.line = element_blank(),\n",
    "                               axis.ticks=element_blank(), legend.position = \"none\"))\n",
    "p3"
   ]
  },
  {
   "cell_type": "code",
   "execution_count": 12,
   "metadata": {},
   "outputs": [
    {
     "data": {
      "text/plain": [
       "Call:\n",
       "coxph(formula = Surv(dat$followe.up..years., dat$is_dead) ~ immune_evasion_shannon + \n",
       "    drink + smoke + sex + age + T_stage + G_stage, data = dat)\n",
       "\n",
       "  n= 71, number of events= 38 \n",
       "   (1 observation deleted due to missingness)\n",
       "\n",
       "                             coef exp(coef)  se(coef)      z Pr(>|z|)   \n",
       "immune_evasion_shannon1  1.033334  2.810420  0.350278  2.950  0.00318 **\n",
       "drink                   -0.027594  0.972783  0.304122 -0.091  0.92770   \n",
       "smoke                   -0.006704  0.993318  0.438264 -0.015  0.98780   \n",
       "sex                     -0.139921  0.869427  0.489098 -0.286  0.77482   \n",
       "age                     -0.007221  0.992805  0.024156 -0.299  0.76500   \n",
       "T_stage                  0.353333  1.423805  0.403304  0.876  0.38098   \n",
       "G_stage                  0.368185  1.445110  0.274322  1.342  0.17954   \n",
       "---\n",
       "Signif. codes:  0 '***' 0.001 '**' 0.01 '*' 0.05 '.' 0.1 ' ' 1\n",
       "\n",
       "                        exp(coef) exp(-coef) lower .95 upper .95\n",
       "immune_evasion_shannon1    2.8104     0.3558    1.4145     5.584\n",
       "drink                      0.9728     1.0280    0.5360     1.766\n",
       "smoke                      0.9933     1.0067    0.4208     2.345\n",
       "sex                        0.8694     1.1502    0.3334     2.268\n",
       "age                        0.9928     1.0072    0.9469     1.041\n",
       "T_stage                    1.4238     0.7023    0.6459     3.139\n",
       "G_stage                    1.4451     0.6920    0.8441     2.474\n",
       "\n",
       "Concordance= 0.677  (se = 0.05 )\n",
       "Likelihood ratio test= 11.38  on 7 df,   p=0.1\n",
       "Wald test            = 10.89  on 7 df,   p=0.1\n",
       "Score (logrank) test = 11.68  on 7 df,   p=0.1\n"
      ]
     },
     "metadata": {},
     "output_type": "display_data"
    }
   ],
   "source": [
    "dat=subset(clinic,immune_evasion_shannon!=-1)\n",
    "dat$immune_evasion_shannon=factor(dat$immune_evasion_shannon)\n",
    "summary(coxph(Surv(dat$followe.up..years.,dat$is_dead)~immune_evasion_shannon+drink+smoke+sex+age+T_stage+G_stage,dat))"
   ]
  },
  {
   "cell_type": "code",
   "execution_count": 13,
   "metadata": {},
   "outputs": [
    {
     "name": "stderr",
     "output_type": "stream",
     "text": [
      "Warning message:\n",
      "\"Vectorized input to `element_text()` is not officially supported.\n",
      "Results may be unexpected or may change in future versions of ggplot2.\"\n"
     ]
    },
    {
     "data": {
      "image/png": "[encoded data removed]",
      "text/plain": [
       "plot without title"
      ]
     },
     "metadata": {
      "image/png": {
       "height": 300,
       "width": 300
      },
      "text/plain": {
       "height": 300,
       "width": 300
      }
     },
     "output_type": "display_data"
    }
   ],
   "source": [
    "\n",
    "p4=ggsurvplot(survfit(Surv(dat$followe.up..years.,dat$is_dead)~immune_evasion_shannon,dat),\n",
    "              pval=\"log rank p = 0.003\\nHR = 2.810(1.415 - 5.584)\",\n",
    "              legend=\"none\",\n",
    "              xlab=\"time(years)\",palette = c(\"blue\",\"red\"),pval.size = 6,\n",
    "              font.x=c(20),font.y=c(20),font.xtickslab = c(20),font.ytickslab = c(20),font.legend=c(18), \n",
    "              risk.table = TRUE, risk.table.height=0.2,\n",
    "              risk.table.title=\"\",risk.table.col = \"strata\",risk.table.y.text=FALSE,\n",
    "              tables.theme=theme(axis.title.x=element_blank(),\n",
    "                               axis.text.x=element_blank(),\n",
    "                               axis.title.y=element_blank(),\n",
    "                               axis.line = element_blank(),\n",
    "                               axis.ticks=element_blank(), legend.position = \"none\"))\n",
    "p4\n"
   ]
  },
  {
   "cell_type": "code",
   "execution_count": null,
   "metadata": {},
   "outputs": [],
   "source": []
  },
  {
   "cell_type": "code",
   "execution_count": null,
   "metadata": {},
   "outputs": [],
   "source": []
  }
 ],
 "metadata": {
  "kernelspec": {
   "display_name": "R",
   "language": "R",
   "name": "ir"
  },
  "language_info": {
   "codemirror_mode": "r",
   "file_extension": ".r",
   "mimetype": "text/x-r-source",
   "name": "R",
   "pygments_lexer": "r",
   "version": "3.6.1"
  }
 },
 "nbformat": 4,
 "nbformat_minor": 4
}
