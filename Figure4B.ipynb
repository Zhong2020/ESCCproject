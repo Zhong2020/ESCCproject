{
 "cells": [
  {
   "cell_type": "code",
   "execution_count": 1,
   "metadata": {},
   "outputs": [
    {
     "name": "stderr",
     "output_type": "stream",
     "text": [
      "Warning message:\n",
      "\"package 'ggplot2' was built under R version 3.6.3\"\n",
      "Warning message:\n",
      "\"package 'gridExtra' was built under R version 3.6.3\"\n",
      "\n",
      "********************************************************\n",
      "\n",
      "Note: As of version 1.0.0, cowplot does not change the\n",
      "\n",
      "  default ggplot2 theme anymore. To recover the previous\n",
      "\n",
      "  behavior, execute:\n",
      "  theme_set(theme_cowplot())\n",
      "\n",
      "********************************************************\n",
      "\n",
      "\n"
     ]
    }
   ],
   "source": [
    "library(ggplot2)\n",
    "library(gridExtra)\n",
    "library(gtable)\n",
    "library(grid)\n",
    "library（reshape2）\n",
    "library(cowplot)"
   ]
  },
  {
   "cell_type": "code",
   "execution_count": 2,
   "metadata": {},
   "outputs": [],
   "source": [
    "load(\"data/Fig4B.rdata\")"
   ]
  },
  {
   "cell_type": "code",
   "execution_count": 3,
   "metadata": {},
   "outputs": [],
   "source": [
    "groups=data.frame(groups)\n",
    "rownames(groups)=groups$sample"
   ]
  },
  {
   "cell_type": "code",
   "execution_count": 4,
   "metadata": {},
   "outputs": [],
   "source": [
    "cdd1=data.frame(total=rep(1,nrow(cd1)), expressed= rowSums(cd1[,c(2,4)])/rowSums(cd1[,c(1,3)]))\n",
    "rownames(cdd1)=rownames(cd1)\n",
    "cdd2=data.frame(total=rep(1,nrow(cd2)), expressed= rowSums(cd2[,c(2,4)])/rowSums(cd2[,c(1,3)]))\n",
    "rownames(cdd2)=rownames(cd2)\n",
    "cdd3=data.frame(total=rep(1,nrow(cd3)), expressed= rowSums(cd3[,c(2,4)])/rowSums(cd3[,c(1,3)]))\n",
    "rownames(cdd3)=rownames(cd3)\n",
    "cdd1$sample=rownames(cdd1)\n",
    "cdd2$sample=rownames(cdd2)\n",
    "cdd3$sample=rownames(cdd3)"
   ]
  },
  {
   "cell_type": "code",
   "execution_count": 5,
   "metadata": {},
   "outputs": [
    {
     "name": "stderr",
     "output_type": "stream",
     "text": [
      "Warning message:\n",
      "\"`expand_scale()` is deprecated; use `expansion()` instead.\"\n",
      "Warning message:\n",
      "\"`expand_scale()` is deprecated; use `expansion()` instead.\"\n",
      "Warning message:\n",
      "\"`expand_scale()` is deprecated; use `expansion()` instead.\"\n",
      "Warning message:\n",
      "\"`expand_scale()` is deprecated; use `expansion()` instead.\"\n",
      "Warning message:\n",
      "\"`expand_scale()` is deprecated; use `expansion()` instead.\"\n",
      "Warning message:\n",
      "\"`expand_scale()` is deprecated; use `expansion()` instead.\"\n"
     ]
    }
   ],
   "source": [
    "cdata1=melt(cd1[,c(1,3)])\n",
    "cdata2=melt(cd1[,c(2,4)])\n",
    "\n",
    "cp1=ggplot()+geom_bar(data=cdata1,mapping=aes(x=Var1,y=value,fill=Var2),stat=\"identity\", \n",
    "             position='dodge')+ \n",
    "        geom_bar(data=cdata2,mapping=aes(x=Var1,y=value,fill=Var2),stat=\"identity\",\n",
    "            position='dodge')+scale_fill_manual(values = c(\"#BADEFA\",\"#1E87E5\",\"#FFCCD2\",\"#EE5250FF\"))+theme_bw()+\n",
    "        theme(axis.line.y = element_line(color=\"black\",),legend.position=\"none\",\n",
    "            panel.grid.major = element_blank(),\n",
    "            axis.ticks.x=element_blank(),\n",
    "            axis.text.x=element_blank(),\n",
    "               axis.title.y=element_text(size=14),\n",
    "               axis.title.x=element_blank(),\n",
    "            panel.grid.minor = element_blank(),\n",
    "            panel.border = element_blank(),\n",
    "            panel.background = element_blank(),\n",
    "             plot.margin = unit(c(0, 0, 0, 0), \"cm\"))+\n",
    "         labs(x=\"\",y=\"Number of Neoantigens\")+\n",
    "         scale_x_discrete(expand = expand_scale(add = 2))+            \n",
    "         scale_y_continuous(breaks=seq(0,500,50),expand= expand_scale(mult = c(0, .05)))+\n",
    "         guides(col = guide_legend(nrow = 2))\n",
    "cp2=ggplot()+geom_bar(data=cdd1,mapping=aes(x=sample,y=total,),fill=\"#BADEFA\",stat=\"identity\",position=\"dodge\",width = 0.8) +\n",
    "          geom_bar(data=cdd1,mapping=aes(x=sample,y=expressed),fill=\"#1E87E5\",stat=\"identity\",position=\"dodge\",width = 0.8)+theme_bw()+\n",
    "        theme(axis.line.y = element_line(color=\"black\",),legend.title = element_blank(),\n",
    "            panel.grid.major = element_blank(),\n",
    "            axis.ticks.x=element_blank(),\n",
    "              axis.title=element_blank(),\n",
    "            axis.text.x=element_blank(),\n",
    "            panel.grid.minor = element_blank(),\n",
    "            panel.border = element_blank(),\n",
    "            panel.background = element_blank(),\n",
    "             legend.position=c(0.5,0.95),\n",
    "             legend.direction = \"horizontal\",\n",
    "             plot.margin = unit(c(0, 0, 0, 0), \"cm\"))+\n",
    "         labs(x=\"\",y=\"\")+\n",
    "         scale_x_discrete(expand = expand_scale(add = 2))+            \n",
    "         scale_y_continuous(breaks=seq(0,1,1),expand= expand_scale(mult = c(0, 0)))+\n",
    "         guides(col = guide_legend(nrow = 2))\n",
    "nmf=data.frame(NMF=as.vector(groups[rownames(cd1),\"NMF\"]),sample=rownames(cdd1))\n",
    "nmf$NMF=factor(nmf$NMF)\n",
    "scolors=c(\"#8DD3C7\",\"#FFC966\",\"#BEBADA\",\"#FB8072\")\n",
    "cp3= ggplot()+geom_bar(data=nmf,mapping=aes(x=sample,y=0.6,fill=NMF),stat=\"identity\",position=\"dodge\",width = 0.8) +\n",
    "    scale_fill_manual(values = scolors)+\n",
    "        theme_nothing()+scale_x_discrete(expand = expand_scale(add = 2))+theme(plot.margin = unit(c(0, 0, 0, 0), \"cm\"),axis.title=element_blank())\n",
    "\n",
    "cp4= ggplot()+geom_bar(data=nmf,mapping=aes(x=sample,y=1,),fill=\"#F8766D\",stat=\"identity\",position=\"dodge\",width = 1) +\n",
    "        theme_nothing()+scale_x_discrete(expand = expand_scale(add = 2))+theme(plot.margin = unit(c(0, 0, 0, 0), \"cm\"))\n",
    "\n",
    "pg1=plot_grid(cp1,cp3,cp4,cp2,nrow=4,rel_heights = c(12,0.8,0.8,1.6),align = \"vh\",labels=c('', ''))"
   ]
  },
  {
   "cell_type": "code",
   "execution_count": 6,
   "metadata": {},
   "outputs": [
    {
     "name": "stderr",
     "output_type": "stream",
     "text": [
      "Warning message:\n",
      "\"`expand_scale()` is deprecated; use `expansion()` instead.\"\n",
      "Warning message:\n",
      "\"`expand_scale()` is deprecated; use `expansion()` instead.\"\n",
      "Warning message:\n",
      "\"`expand_scale()` is deprecated; use `expansion()` instead.\"\n",
      "Warning message:\n",
      "\"`expand_scale()` is deprecated; use `expansion()` instead.\"\n",
      "Warning message:\n",
      "\"`expand_scale()` is deprecated; use `expansion()` instead.\"\n",
      "Warning message:\n",
      "\"`expand_scale()` is deprecated; use `expansion()` instead.\"\n"
     ]
    }
   ],
   "source": [
    "cdata1=melt(cd2[,c(1,3)])\n",
    "cdata2=melt(cd2[,c(2,4)])\n",
    "colnames(cdata1)=c(\"Var1\",\"Var2\",\"value\")\n",
    "colnames(cdata2)=c(\"Var1\",\"Var2\",\"value\")\n",
    "cp1=ggplot()+geom_bar(data=cdata1,mapping=aes(x=Var1,y=value,fill=Var2),stat=\"identity\", \n",
    "             position='dodge')+ \n",
    "        geom_bar(data=cdata2,mapping=aes(x=Var1,y=value,fill=Var2),stat=\"identity\",\n",
    "            position='dodge')+scale_fill_manual(values = c(\"#BADEFA\",\"#1E87E5\",\"#FFCCD2\",\"#EE5250FF\"))+theme_bw()+\n",
    "        theme(axis.line.y = element_line(color=\"black\",),legend.position = \"none\",\n",
    "            panel.grid.major = element_blank(),\n",
    "            axis.ticks.x=element_blank(),\n",
    "            axis.text.x=element_blank(),\n",
    "              axis.title=element_blank(),\n",
    "            panel.grid.minor = element_blank(),\n",
    "            panel.border = element_blank(),\n",
    "            panel.background = element_blank(),\n",
    "             plot.margin = unit(c(0, 0, 0, 0), \"cm\"))+\n",
    "         labs(x=\"\",y=\"\")+\n",
    "         scale_x_discrete(expand = expand_scale(add = 2))+            \n",
    "         scale_y_continuous(breaks=seq(0,500,50),expand= expand_scale(mult = c(0, .05)))+\n",
    "         guides(col = guide_legend(nrow = 2))+\n",
    "         annotate(\"rect\",xmin=c(6,8,6,8),xmax=c(7.5,9.5,7.5,9.5),\n",
    "                  ymin=c(450,450,500,500),ymax=c(475,475,525,525),fill=c(\"#BADEFA\",\"#1E87E5\",\"#FFCCD2\",\"#EE5250FF\"))+\n",
    "         annotate(\"text\",x=c(10,10),y=c(465,515),label=c(\"clonal neo/exp\",'subclonal neo/exp'),hjust=0,size=4.5)\n",
    "cp2=ggplot()+geom_bar(data=cdd2,mapping=aes(x=sample,y=total,),fill=\"#BADEFA\",stat=\"identity\",position=\"dodge\",width = 0.8) +\n",
    "          geom_bar(data=cdd2,mapping=aes(x=sample,y=expressed),fill=\"#1E87E5\",stat=\"identity\",position=\"dodge\",width = 0.8)+theme_bw()+\n",
    "        theme(axis.line.y = element_line(color=\"black\",),legend.title = element_blank(),\n",
    "            panel.grid.major = element_blank(),\n",
    "            axis.ticks.x=element_blank(),\n",
    "            axis.text.x=element_blank(),\n",
    "              axis.title=element_blank(),\n",
    "            panel.grid.minor = element_blank(),\n",
    "            panel.border = element_blank(),\n",
    "            panel.background = element_blank(),\n",
    "             legend.position=c(0.6,0.95),\n",
    "             legend.direction = \"horizontal\",\n",
    "             plot.margin = unit(c(0, 0, 0, 0), \"cm\"))+\n",
    "         labs(x=\"\",y=\"\")+\n",
    "         scale_x_discrete(expand = expand_scale(add = 2))+            \n",
    "         scale_y_continuous(breaks=seq(0,1,1),expand= expand_scale(mult = c(0, 0)))+\n",
    "         guides(col = guide_legend(nrow = 2))\n",
    "nmf=data.frame(NMF=as.vector(groups[rownames(cdd2),\"NMF\"]),sample=rownames(cdd2))\n",
    "nmf$NMF=factor(nmf$NMF)\n",
    "scolors=c(\"#8DD3C7\",\"#FFC966\",\"#BEBADA\",\"#FB8072\")\n",
    "cp3= ggplot()+geom_bar(data=nmf,mapping=aes(x=sample,y=0.6,fill=NMF),stat=\"identity\",position=\"dodge\",width = 0.8) +\n",
    "    scale_fill_manual(values = scolors)+\n",
    "        theme_nothing()+scale_x_discrete(expand = expand_scale(add = 2))+theme(plot.margin = unit(c(0, 0, 0, 0), \"cm\"),axis.title=element_blank())\n",
    "cp4= ggplot()+geom_bar(data=nmf,mapping=aes(x=sample,y=1,),fill=\"#00BA38\",stat=\"identity\",position=\"dodge\",width = 1) +\n",
    "        theme_nothing()+scale_x_discrete(expand = expand_scale(add = 2))+theme(plot.margin = unit(c(0, 0, 0, 0), \"cm\"))\n",
    "\n",
    "pg2=plot_grid(cp1,cp3,cp4,cp2,nrow=4,rel_heights = c(12,0.8,0.8,1.6),align = \"vh\",labels=c('', ''))"
   ]
  },
  {
   "cell_type": "code",
   "execution_count": 7,
   "metadata": {},
   "outputs": [
    {
     "name": "stderr",
     "output_type": "stream",
     "text": [
      "Warning message:\n",
      "\"`expand_scale()` is deprecated; use `expansion()` instead.\"\n",
      "Warning message:\n",
      "\"`expand_scale()` is deprecated; use `expansion()` instead.\"\n",
      "Warning message:\n",
      "\"`expand_scale()` is deprecated; use `expansion()` instead.\"\n",
      "Warning message:\n",
      "\"`expand_scale()` is deprecated; use `expansion()` instead.\"\n",
      "Warning message:\n",
      "\"`expand_scale()` is deprecated; use `expansion()` instead.\"\n",
      "Warning message:\n",
      "\"`expand_scale()` is deprecated; use `expansion()` instead.\"\n"
     ]
    }
   ],
   "source": [
    "cdata1=melt(cd3[,c(1,3)])\n",
    "cdata2=melt(cd3[,c(2,4)])\n",
    "\n",
    "cp1=ggplot()+geom_bar(data=cdata1,mapping=aes(x=Var1,y=value,fill=Var2),stat=\"identity\", \n",
    "             position='dodge')+ \n",
    "        geom_bar(data=cdata2,mapping=aes(x=Var1,y=value,fill=Var2),stat=\"identity\",\n",
    "            position='dodge')+scale_fill_manual(values = c(\"#BADEFA\",\"#1E87E5\",\"#FFCCD2\",\"#EE5250FF\"))+theme_bw()+\n",
    "        theme(axis.line.y = element_line(color=\"black\",),legend.position=\"none\",\n",
    "            panel.grid.major = element_blank(),\n",
    "            axis.ticks.x=element_blank(),\n",
    "            axis.text.x=element_blank(),\n",
    "              axis.title=element_blank(),\n",
    "            panel.grid.minor = element_blank(),\n",
    "            panel.border = element_blank(),\n",
    "            panel.background = element_blank(),\n",
    "             plot.margin = unit(c(0, 0, 0, 0), \"cm\"))+\n",
    "         labs(x=\"\",y=\"\")+\n",
    "         scale_x_discrete(expand = expand_scale(add = 2))+            \n",
    "         scale_y_continuous(breaks=seq(0,500,50),expand= expand_scale(mult = c(0, .05)))#+\n",
    "       #  annotate(\"rect\",xmin=c(6,8,6,8),xmax=c(7.5,9.5,7.5,9.5),\n",
    "       #           ymin=c(110,110,130,130),ymax=c(120,120,140,140),fill=c(\"#BADEFA\",\"#1E87E5\",\"#FFCCD2\",\"#EE5250FF\"))+\n",
    "       #  annotate(\"text\",x=c(10,10),y=c(115,135),label=c(\"clonal neo/exp\",'subclonal neo/exp'),hjust=0,size=4.5)\n",
    "cp2=ggplot()+geom_bar(data=cdd3,mapping=aes(x=sample,y=total,),fill=\"#BADEFA\",stat=\"identity\",position=\"dodge\",width = 0.8) +\n",
    "          geom_bar(data=cdd3,mapping=aes(x=sample,y=expressed),fill=\"#1E87E5\",stat=\"identity\",position=\"dodge\",width = 0.8)+theme_bw()+\n",
    "        theme(axis.line.y = element_line(color=\"black\",),\n",
    "            panel.grid.major = element_blank(),\n",
    "            axis.ticks.x=element_blank(),\n",
    "            axis.text.x=element_blank(),\n",
    "            axis.title=element_blank(),\n",
    "            panel.grid.minor = element_blank(),\n",
    "            panel.border = element_blank(),\n",
    "            panel.background = element_blank(),\n",
    "             legend.position=\"none\",\n",
    "             plot.margin = unit(c(0, 0, 0, 0), \"cm\"))+\n",
    "         labs(x=\"\",y=\"\")+\n",
    "         scale_x_discrete(expand = expand_scale(add = 2))+            \n",
    "         scale_y_continuous(breaks=seq(0,1,1),expand= expand_scale(mult = c(0, 0)))+\n",
    "         guides(col = guide_legend(nrow = 2))\n",
    "nmf=data.frame(NMF=as.vector(groups[rownames(cd3),\"NMF\"]),sample=rownames(cdd3))\n",
    "nmf$NMF=factor(nmf$NMF)\n",
    "scolors=c(\"#8DD3C7\",\"#FFC966\",\"#BEBADA\",\"#FB8072\")\n",
    "cp3= ggplot()+geom_bar(data=nmf,mapping=aes(x=sample,y=1,fill=NMF),stat=\"identity\",position=\"dodge\",width = 0.8) +\n",
    "        scale_fill_manual(values = scolors)+\n",
    "        theme_nothing()+scale_x_discrete(expand = expand_scale(add = 2))+theme(plot.margin = unit(c(0, 0, 0, 0), \"cm\"),axis.title=element_blank())\n",
    "cp4= ggplot()+geom_bar(data=nmf,mapping=aes(x=sample,y=1,),fill=\"#619CFF\",stat=\"identity\",position=\"dodge\",width = 1) +\n",
    "        theme_nothing()+scale_x_discrete(expand = expand_scale(add = 2))+theme(plot.margin = unit(c(0, 0, 0, 0), \"cm\"))\n",
    "\n",
    "pg3=plot_grid(cp1,cp3,cp4,cp2,nrow=4,rel_heights = c(12,0.8,0.8,1.6),align = \"vh\",labels=c('', ''))"
   ]
  },
  {
   "cell_type": "code",
   "execution_count": 8,
   "metadata": {},
   "outputs": [
    {
     "data": {
      "image/png": "[encoded data removed]",
      "text/plain": [
       "plot without title"
      ]
     },
     "metadata": {
      "image/png": {
       "height": 240,
       "width": 600
      },
      "text/plain": {
       "height": 240,
       "width": 600
      }
     },
     "output_type": "display_data"
    }
   ],
   "source": [
    "options(repr.plot.height=4,repr.plot.width=10)\n",
    "par(mar=c(10,10,8,8))\n",
    "plot_grid(pg1,pg2,pg3,rel_widths=c(35,40,28,1),ncol = 3,labels=c('', ''))"
   ]
  },
  {
   "cell_type": "code",
   "execution_count": null,
   "metadata": {},
   "outputs": [],
   "source": []
  }
 ],
 "metadata": {
  "kernelspec": {
   "display_name": "R",
   "language": "R",
   "name": "ir"
  },
  "language_info": {
   "codemirror_mode": "r",
   "file_extension": ".r",
   "mimetype": "text/x-r-source",
   "name": "R",
   "pygments_lexer": "r",
   "version": "3.6.1"
  }
 },
 "nbformat": 4,
 "nbformat_minor": 4
}
