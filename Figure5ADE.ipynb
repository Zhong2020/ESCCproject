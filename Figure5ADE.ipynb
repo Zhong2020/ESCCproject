{
 "cells": [
  {
   "cell_type": "markdown",
   "metadata": {},
   "source": [
    "## Figure 5A"
   ]
  },
  {
   "cell_type": "code",
   "execution_count": 1,
   "metadata": {},
   "outputs": [],
   "source": [
    "load(\"data/Figure5A.rdata\")"
   ]
  },
  {
   "cell_type": "code",
   "execution_count": 2,
   "metadata": {},
   "outputs": [
    {
     "name": "stderr",
     "output_type": "stream",
     "text": [
      "Loading required package: grid\n",
      "\n",
      "========================================\n",
      "ComplexHeatmap version 2.3.4\n",
      "Bioconductor page: http://bioconductor.org/packages/ComplexHeatmap/\n",
      "Github page: https://github.com/jokergoo/ComplexHeatmap\n",
      "Documentation: http://jokergoo.github.io/ComplexHeatmap-reference\n",
      "\n",
      "If you use it in published research, please cite:\n",
      "Gu, Z. Complex heatmaps reveal patterns and correlations in multidimensional \n",
      "  genomic data. Bioinformatics 2016.\n",
      "\n",
      "This message can be suppressed by:\n",
      "  suppressPackageStartupMessages(library(ComplexHeatmap))\n",
      "========================================\n",
      "\n",
      "\n"
     ]
    }
   ],
   "source": [
    "library(ComplexHeatmap)\n",
    "\n",
    "# strong defection is defined as with deletion and downregulation or mutations and downregulation\n",
    "alter_fun = list(\n",
    "    background = function(x, y, w, h) {\n",
    "        grid.rect(x, y, w-unit(0.5, \"mm\"), h-unit(0.5, \"mm\"), gp = gpar(fill = \"#DDDDDD\", col = NA))\n",
    "    },  \n",
    "    MutDown = function(x, y, w, h) {\n",
    "        grid.rect(x, y, w-unit(0.5, \"mm\"), h-unit(0.5, \"mm\"), gp = gpar(fill = \"#ff000a\", col = NA))\n",
    "    },\n",
    "    \n",
    "    DelDown= function(x, y, w, h) {\n",
    "        grid.rect(x, y, w-unit(0.5, \"mm\"), h-unit(0.5, \"mm\"), gp = gpar(fill = \"#ff000a\", col = NA))\n",
    "    }\n",
    "    \n",
    ")"
   ]
  },
  {
   "cell_type": "code",
   "execution_count": 3,
   "metadata": {},
   "outputs": [],
   "source": [
    "col = c(\"DelDown\" = \"#ff000a\",  \"MutDown\" = \"#ff000a\") # No mutDown in the dataset."
   ]
  },
  {
   "cell_type": "code",
   "execution_count": 4,
   "metadata": {},
   "outputs": [],
   "source": [
    "col_bar=colSums(antigen==\"DelDown;\")\n",
    "row_bar=rowSums(antigen==\"DelDown;\")"
   ]
  },
  {
   "cell_type": "code",
   "execution_count": 5,
   "metadata": {},
   "outputs": [],
   "source": [
    "antigen=antigen[row_bar > 0,]\n",
    "col_bar=colSums(antigen==\"DelDown;\")\n",
    "row_bar=rowSums(antigen==\"DelDown;\")"
   ]
  },
  {
   "cell_type": "code",
   "execution_count": 6,
   "metadata": {},
   "outputs": [
    {
     "name": "stderr",
     "output_type": "stream",
     "text": [
      "Warning message:\n",
      "\"package 'circlize' was built under R version 3.6.3\"\n",
      "========================================\n",
      "circlize version 0.4.8\n",
      "CRAN page: https://cran.r-project.org/package=circlize\n",
      "Github page: https://github.com/jokergoo/circlize\n",
      "Documentation: http://jokergoo.github.io/circlize_book/book/\n",
      "\n",
      "If you use it in published research, please cite:\n",
      "Gu, Z. circlize implements and enhances circular visualization \n",
      "  in R. Bioinformatics 2014.\n",
      "========================================\n",
      "\n",
      "\n",
      "All mutation types: DelDown\n",
      "\n"
     ]
    },
    {
     "data": {
      "image/png": "[encoded data removed]",
      "text/plain": [
       "plot without title"
      ]
     },
     "metadata": {
      "image/png": {
       "height": 300,
       "width": 480
      },
      "text/plain": {
       "height": 300,
       "width": 480
      }
     },
     "output_type": "display_data"
    }
   ],
   "source": [
    "library(circlize)\n",
    "col_fun = colorRamp2(c(0, 10), c(\"white\", \"blue\"))\n",
    "\n",
    "\n",
    "options(repr.plot.width=8,repr.plot.height=5)\n",
    "oncoPrint(antigen, get_type = function(x) strsplit(x, \";\")[[1]],\n",
    "    alter_fun = alter_fun, col = col,show_pct=FALSE,\n",
    "    column_title = \"Alterations in APM genes\",\n",
    "    row_order=order(row_bar,decreasing = TRUE),\n",
    "    column_order=order(col_bar,decreasing =TRUE),\n",
    "           row_names_gp = gpar(fontsize = 8),\n",
    "    #       pct_side = \"right\", row_names_side = \"left\",\n",
    "    heatmap_legend_param = list(title = \"Alternations\", at = c(\"DelDown\",\"MutDown\"), \n",
    "                                labels = c(\"Strong Defect\", \"Mutation+Downregulation\")),\n",
    "    top_annotation = NULL,\n",
    "    bottom_annotation = HeatmapAnnotation(bar=anno_barplot(col_bar,border=FALSE,height = unit(2, \"cm\"),\n",
    "                                                          gp = gpar(col = \"white\", fill = \"#3182bd\")),\n",
    "                                          annotation_label=\"Count\",\n",
    "                                         show_annotation_name=FALSE), \n",
    "    \n",
    "    \n",
    "    right_annotation = rowAnnotation(Defect=anno_barplot(row_bar,border=FALSE,width = unit(3, \"cm\"),\n",
    "                                                       axis_param = list(side = \"top\", labels_rot = 0),\n",
    "                                                         label_param=list(side = \"top\"),\n",
    "                                                        gp = gpar(col = \"white\", fill = \"#3182bd\")),\n",
    "                                    annotation_name_side = \"top\",\n",
    "                                    annotation_label=\"Defected Samples\"),    \n",
    ")"
   ]
  },
  {
   "cell_type": "markdown",
   "metadata": {},
   "source": [
    "## Figure 5D"
   ]
  },
  {
   "cell_type": "code",
   "execution_count": 7,
   "metadata": {},
   "outputs": [],
   "source": [
    "load(\"data/Fig5D.rdata\")"
   ]
  },
  {
   "cell_type": "code",
   "execution_count": 8,
   "metadata": {},
   "outputs": [
    {
     "data": {
      "text/plain": [
       "\n",
       "Differenciated    Immunogenic       Metablic       Stemness \n",
       "            32             27             21             23 "
      ]
     },
     "metadata": {},
     "output_type": "display_data"
    }
   ],
   "source": [
    "table(dat$NMF)"
   ]
  },
  {
   "cell_type": "code",
   "execution_count": 9,
   "metadata": {},
   "outputs": [
    {
     "name": "stderr",
     "output_type": "stream",
     "text": [
      "Warning message:\n",
      "\"package 'ggplot2' was built under R version 3.6.3\"\n",
      "Warning message:\n",
      "\"package 'ggrepel' was built under R version 3.6.2\"\n"
     ]
    }
   ],
   "source": [
    "library(reshape2)\n",
    "library(ggplot2)\n",
    "library(ggsignif)\n",
    "library(ggrepel)\n",
    "data=melt(table(dat$loh,dat$NMF))\n",
    "colnames(data)=c(\"HLALOH\",\"NMF\",\"Count\")\n",
    "data$Fraction=data$Count/c(32,32,27,27,21,21,23,23)"
   ]
  },
  {
   "cell_type": "code",
   "execution_count": 10,
   "metadata": {},
   "outputs": [],
   "source": [
    "p1=ggplot(data=data, aes(x = NMF, y = Fraction, fill = HLALOH)) + \n",
    "       geom_bar(stat = \"identity\") + \n",
    "       annotate(\"text\",x=1:4,y=0.25,label=data$Count[data$HLALOH==\"Yes\"],size=5)+\n",
    "       annotate(\"text\",x=1:4,y=0.85,label=data$Count[data$HLALOH==\"No\"],size=5)+\n",
    "       theme_minimal()+\n",
    "      theme(legend.position = \"right\",\n",
    "            axis.text.x=element_text(size=15,angle=-90,hjust=0,vjust=0.5),\n",
    "            axis.text.y=element_text(size = 15),\n",
    "            axis.title=element_text(size=18),\n",
    "            axis.title.x=element_blank()\n",
    "           )\n",
    "                                                         \n"
   ]
  },
  {
   "cell_type": "code",
   "execution_count": 11,
   "metadata": {},
   "outputs": [
    {
     "data": {
      "text/plain": [
       "\n",
       "C1 C2 C3 \n",
       "35 40 28 "
      ]
     },
     "metadata": {},
     "output_type": "display_data"
    }
   ],
   "source": [
    "data1=melt(table(dat$loh,dat$danaher_Cluster ))\n",
    "colnames(data1)=c(\"HLALOH\",\"Immune\",\"Count\")\n",
    "table(dat$danaher_Cluster)"
   ]
  },
  {
   "cell_type": "code",
   "execution_count": 12,
   "metadata": {},
   "outputs": [],
   "source": [
    "data1$Fraction=data1$Count/c(35,35,40,40,28,28)"
   ]
  },
  {
   "cell_type": "code",
   "execution_count": 13,
   "metadata": {},
   "outputs": [
    {
     "data": {
      "text/html": [
       "<table>\n",
       "<caption>A data.frame: 6 × 4</caption>\n",
       "<thead>\n",
       "\t<tr><th scope=col>HLALOH</th><th scope=col>Immune</th><th scope=col>Count</th><th scope=col>Fraction</th></tr>\n",
       "\t<tr><th scope=col>&lt;fct&gt;</th><th scope=col>&lt;fct&gt;</th><th scope=col>&lt;int&gt;</th><th scope=col>&lt;dbl&gt;</th></tr>\n",
       "</thead>\n",
       "<tbody>\n",
       "\t<tr><td>No </td><td>C1</td><td>21</td><td>0.600</td></tr>\n",
       "\t<tr><td>Yes</td><td>C1</td><td>14</td><td>0.400</td></tr>\n",
       "\t<tr><td>No </td><td>C2</td><td>21</td><td>0.525</td></tr>\n",
       "\t<tr><td>Yes</td><td>C2</td><td>19</td><td>0.475</td></tr>\n",
       "\t<tr><td>No </td><td>C3</td><td> 7</td><td>0.250</td></tr>\n",
       "\t<tr><td>Yes</td><td>C3</td><td>21</td><td>0.750</td></tr>\n",
       "</tbody>\n",
       "</table>\n"
      ],
      "text/latex": [
       "A data.frame: 6 × 4\n",
       "\\begin{tabular}{llll}\n",
       " HLALOH & Immune & Count & Fraction\\\\\n",
       " <fct> & <fct> & <int> & <dbl>\\\\\n",
       "\\hline\n",
       "\t No  & C1 & 21 & 0.600\\\\\n",
       "\t Yes & C1 & 14 & 0.400\\\\\n",
       "\t No  & C2 & 21 & 0.525\\\\\n",
       "\t Yes & C2 & 19 & 0.475\\\\\n",
       "\t No  & C3 &  7 & 0.250\\\\\n",
       "\t Yes & C3 & 21 & 0.750\\\\\n",
       "\\end{tabular}\n"
      ],
      "text/markdown": [
       "\n",
       "A data.frame: 6 × 4\n",
       "\n",
       "| HLALOH &lt;fct&gt; | Immune &lt;fct&gt; | Count &lt;int&gt; | Fraction &lt;dbl&gt; |\n",
       "|---|---|---|---|\n",
       "| No  | C1 | 21 | 0.600 |\n",
       "| Yes | C1 | 14 | 0.400 |\n",
       "| No  | C2 | 21 | 0.525 |\n",
       "| Yes | C2 | 19 | 0.475 |\n",
       "| No  | C3 |  7 | 0.250 |\n",
       "| Yes | C3 | 21 | 0.750 |\n",
       "\n"
      ],
      "text/plain": [
       "  HLALOH Immune Count Fraction\n",
       "1 No     C1     21    0.600   \n",
       "2 Yes    C1     14    0.400   \n",
       "3 No     C2     21    0.525   \n",
       "4 Yes    C2     19    0.475   \n",
       "5 No     C3      7    0.250   \n",
       "6 Yes    C3     21    0.750   "
      ]
     },
     "metadata": {},
     "output_type": "display_data"
    }
   ],
   "source": [
    "data1"
   ]
  },
  {
   "cell_type": "code",
   "execution_count": 14,
   "metadata": {},
   "outputs": [
    {
     "data": {
      "text/plain": [
       "\n",
       "\tPearson's Chi-squared test with Yates' continuity correction\n",
       "\n",
       "data:  matrix(rbind(c(21, 14), c(7, 21)), nrow = 2)\n",
       "X-squared = 6.3651, df = 1, p-value = 0.01164\n"
      ]
     },
     "metadata": {},
     "output_type": "display_data"
    },
    {
     "data": {
      "text/plain": [
       "\n",
       "\tPearson's Chi-squared test with Yates' continuity correction\n",
       "\n",
       "data:  matrix(rbind(c(21, 19), c(7, 21)), nrow = 2)\n",
       "X-squared = 4.0698, df = 1, p-value = 0.04366\n"
      ]
     },
     "metadata": {},
     "output_type": "display_data"
    }
   ],
   "source": [
    "# C1 and C3 chi-square test\n",
    "chisq.test(matrix(rbind(c(21,14),c(7,21)),nrow = 2))\n",
    "# C2 and C3 chi-square test\n",
    "chisq.test(matrix(rbind(c(21,19),c(7,21)),nrow = 2))"
   ]
  },
  {
   "cell_type": "code",
   "execution_count": 15,
   "metadata": {},
   "outputs": [],
   "source": [
    "p2=ggplot(data=data1, aes(x = Immune, y = Fraction, fill = HLALOH)) + \n",
    "       geom_bar(stat = \"identity\") + \n",
    "       geom_signif(comparisons = list(c(\"C1\", \"C3\"),c(\"C2\",\"C3\")), \n",
    "                   y_position = c(1.05,1.15),\n",
    "                   annotation=c(\"*\", \"*\"),\n",
    "                   tip_length = 0.05, vjust=0.5,textsize=8)+\n",
    "       scale_y_continuous(breaks=c(0.0,0.25, 0.5, 0.75,1.0))+\n",
    "       annotate(\"text\",x=1:3,y=0.25,label=data1$Count[data1$HLALOH==\"Yes\"],size=5)+\n",
    "       annotate(\"text\",x=1:3,y=0.85,label=data1$Count[data1$HLALOH==\"No\"],size=5)+ \n",
    "       theme_minimal()+\n",
    "       theme(legend.position = \"right\",\n",
    "             axis.text.x=element_text(size = 15,vjust=1,hjust=0.5),\n",
    "             axis.text.y=element_text(size = 15),\n",
    "             axis.title=element_text(size=18),\n",
    "            axis.title.x=element_blank())"
   ]
  },
  {
   "cell_type": "code",
   "execution_count": 16,
   "metadata": {},
   "outputs": [
    {
     "data": {
      "image/png": "[encoded data removed]",
      "text/plain": [
       "plot without title"
      ]
     },
     "metadata": {
      "image/png": {
       "height": 300,
       "width": 240
      },
      "text/plain": {
       "height": 300,
       "width": 240
      }
     },
     "output_type": "display_data"
    },
    {
     "data": {
      "image/png": "[encoded data removed]",
      "text/plain": [
       "plot without title"
      ]
     },
     "metadata": {
      "image/png": {
       "height": 240,
       "width": 240
      },
      "text/plain": {
       "height": 240,
       "width": 240
      }
     },
     "output_type": "display_data"
    }
   ],
   "source": [
    "options(repr.plot.width=4,repr.plot.height=5)\n",
    "p1\n",
    "options(repr.plot.width=4,repr.plot.height=4)\n",
    "p2"
   ]
  },
  {
   "cell_type": "markdown",
   "metadata": {},
   "source": [
    "## Figure 5 E"
   ]
  },
  {
   "cell_type": "code",
   "execution_count": 17,
   "metadata": {},
   "outputs": [],
   "source": [
    "load(\"data/Figure5E.rdata\")"
   ]
  },
  {
   "cell_type": "code",
   "execution_count": 18,
   "metadata": {},
   "outputs": [],
   "source": [
    "library(ggsignif)"
   ]
  },
  {
   "cell_type": "code",
   "execution_count": 19,
   "metadata": {},
   "outputs": [
    {
     "data": {
      "image/png": "[encoded data removed]",
      "text/plain": [
       "plot without title"
      ]
     },
     "metadata": {
      "image/png": {
       "height": 240,
       "width": 240
      },
      "text/plain": {
       "height": 240,
       "width": 240
      }
     },
     "output_type": "display_data"
    }
   ],
   "source": [
    "p1 = ggplot(lohdata,aes(x=HLALOH,y=mutations))+geom_boxplot()+geom_jitter(width = 0.1) +\n",
    "     labs(x=\"HLA LOH\",y=\"Non-syn Mutations\") +\n",
    "     theme(axis.text= element_text(size=16),axis.title=element_text(size=19)) +\n",
    "     geom_signif(comparisons=list(c(1,2)),map_signif_level=TRUE,textsize=8,margin_top = 0.05,vjust = 0.5)+\n",
    "     geom_signif(comparisons=list(c(1,2)),map_signif_level=FALSE,textsize=6,margin_top = 0.05,vjust = 1) # show the wilcox test pvalue\n",
    "p1\n"
   ]
  },
  {
   "cell_type": "code",
   "execution_count": 20,
   "metadata": {},
   "outputs": [
    {
     "data": {
      "image/png": "[encoded data removed]",
      "text/plain": [
       "plot without title"
      ]
     },
     "metadata": {
      "image/png": {
       "height": 240,
       "width": 240
      },
      "text/plain": {
       "height": 240,
       "width": 240
      }
     },
     "output_type": "display_data"
    }
   ],
   "source": [
    "p2 = ggplot(lohdata,aes(x=HLALOH,y=raw))+geom_boxplot()+geom_jitter(width = 0.1) +\n",
    "     labs(x=\"HLA LOH\",y=\"Raw Neoantigens\") +\n",
    "     theme(axis.text= element_text(size=16),axis.title=element_text(size=19)) +\n",
    "     geom_signif(comparisons=list(c(1,2)),map_signif_level=TRUE,textsize=8,margin_top = 0.05,vjust = 0.5)+\n",
    "     geom_signif(comparisons=list(c(1,2)),map_signif_level=FALSE,textsize=6,margin_top = 0.05,vjust = 1)\n",
    "p2"
   ]
  },
  {
   "cell_type": "code",
   "execution_count": 21,
   "metadata": {},
   "outputs": [
    {
     "data": {
      "image/png": "[encoded data removed]",
      "text/plain": [
       "plot without title"
      ]
     },
     "metadata": {
      "image/png": {
       "height": 240,
       "width": 240
      },
      "text/plain": {
       "height": 240,
       "width": 240
      }
     },
     "output_type": "display_data"
    }
   ],
   "source": [
    "p3 = ggplot(lohdata,aes(x=HLALOH,y=effective))+geom_boxplot()+geom_jitter(width = 0.1) +\n",
    "     labs(x=\"HLA LOH\",y=\"Effective Neoantigens\") + scale_y_continuous(limits = c(0,1750))+\n",
    "     theme(axis.text= element_text(size=16),axis.title=element_text(size=19)) +\n",
    "     geom_signif(comparisons=list(c(1,2)),map_signif_level=FALSE,textsize=7,margin_top = 0.1,vjust = 0)\n",
    "p3"
   ]
  },
  {
   "cell_type": "code",
   "execution_count": 22,
   "metadata": {},
   "outputs": [
    {
     "data": {
      "text/html": [
       "<strong>png:</strong> 2"
      ],
      "text/latex": [
       "\\textbf{png:} 2"
      ],
      "text/markdown": [
       "**png:** 2"
      ],
      "text/plain": [
       "png \n",
       "  2 "
      ]
     },
     "metadata": {},
     "output_type": "display_data"
    }
   ],
   "source": [
    "pdf(\"Figure5E.pdf\",width=4,height=4,onefile=TRUE)\n",
    "p1\n",
    "p2\n",
    "p3\n",
    "dev.off()"
   ]
  },
  {
   "cell_type": "code",
   "execution_count": null,
   "metadata": {},
   "outputs": [],
   "source": []
  }
 ],
 "metadata": {
  "kernelspec": {
   "display_name": "R",
   "language": "R",
   "name": "ir"
  },
  "language_info": {
   "codemirror_mode": "r",
   "file_extension": ".r",
   "mimetype": "text/x-r-source",
   "name": "R",
   "pygments_lexer": "r",
   "version": "3.6.1"
  }
 },
 "nbformat": 4,
 "nbformat_minor": 4
}
