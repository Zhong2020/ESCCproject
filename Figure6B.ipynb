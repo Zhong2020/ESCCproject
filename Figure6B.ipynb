{
 "cells": [
  {
   "cell_type": "code",
   "execution_count": 1,
   "metadata": {},
   "outputs": [
    {
     "name": "stderr",
     "output_type": "stream",
     "text": [
      "Warning message:\n",
      "\"package 'survival' was built under R version 3.6.3\"\n",
      "Loading required package: ggplot2\n",
      "\n",
      "Warning message:\n",
      "\"package 'ggplot2' was built under R version 3.6.3\"\n",
      "Loading required package: ggpubr\n",
      "\n",
      "Warning message:\n",
      "\"package 'ggpubr' was built under R version 3.6.3\"\n",
      "Loading required package: magrittr\n",
      "\n"
     ]
    }
   ],
   "source": [
    "library(survival)\n",
    "library(survminer)\n",
    "library(ggplot2)"
   ]
  },
  {
   "cell_type": "code",
   "execution_count": 2,
   "metadata": {},
   "outputs": [],
   "source": [
    "load(\"data/Figure6B.rdata\")"
   ]
  },
  {
   "cell_type": "markdown",
   "metadata": {},
   "source": [
    "## calculate nklike and immune evasion"
   ]
  },
  {
   "cell_type": "code",
   "execution_count": 3,
   "metadata": {},
   "outputs": [],
   "source": [
    "clinic$nklike=(clinic$NK*2+clinic$CD160)/3\n",
    "clinic$immune_evasion=rep(\"High\",nrow(clinic))\n",
    "clinic$immune_evasion[(clinic$hlaloh==\"No\" & clinic$antigen.defect ==0) |clinic$nklike <= median(clinic$nklike)]=\"Low\""
   ]
  },
  {
   "cell_type": "code",
   "execution_count": 4,
   "metadata": {},
   "outputs": [],
   "source": [
    "#immune_evasion and clonal_neoantigens\n",
    "clinic$immune_evasion_clonal_neo=rep(-1,nrow(clinic))\n",
    "clinic$immune_evasion_clonal_neo[clinic$clonal.neoantigen > median(clinic$clonal.neoantigen) &\n",
    "                                 clinic$immune_evasion ==\"Low\"]=0\n",
    "clinic$immune_evasion_clonal_neo[clinic$clonal.neoantigen <= median(clinic$clonal.neoantigen) & \n",
    "                                 clinic$immune_evasion ==\"High\"]=1"
   ]
  },
  {
   "cell_type": "code",
   "execution_count": 5,
   "metadata": {},
   "outputs": [
    {
     "data": {
      "text/plain": [
       "Call:\n",
       "coxph(formula = Surv(clinic1$followe.up..years., clinic1$is_dead) ~ \n",
       "    immune_evasion, data = clinic1)\n",
       "\n",
       "  n= 103, number of events= 52 \n",
       "\n",
       "                     coef exp(coef) se(coef)     z Pr(>|z|)  \n",
       "immune_evasionHigh 0.6223    1.8633   0.2777 2.241    0.025 *\n",
       "---\n",
       "Signif. codes:  0 '***' 0.001 '**' 0.01 '*' 0.05 '.' 0.1 ' ' 1\n",
       "\n",
       "                   exp(coef) exp(-coef) lower .95 upper .95\n",
       "immune_evasionHigh     1.863     0.5367     1.081     3.211\n",
       "\n",
       "Concordance= 0.579  (se = 0.035 )\n",
       "Likelihood ratio test= 4.98  on 1 df,   p=0.03\n",
       "Wald test            = 5.02  on 1 df,   p=0.03\n",
       "Score (logrank) test = 5.18  on 1 df,   p=0.02\n"
      ]
     },
     "metadata": {},
     "output_type": "display_data"
    },
    {
     "name": "stdout",
     "output_type": "stream",
     "text": [
      "      test         df     pvalue \n",
      "5.18410343 1.00000000 0.02279443 \n"
     ]
    }
   ],
   "source": [
    "clinic1=clinic\n",
    "clinic1$immune_evasion=factor(clinic1$immune_evasion,levels=c(\"Low\",\"High\"))\n",
    "cox_result=summary(coxph(Surv(clinic1$followe.up..years.,clinic1$is_dead)~immune_evasion,clinic1))\n",
    "cox_result\n",
    "print(cox_result$sctest)"
   ]
  },
  {
   "cell_type": "code",
   "execution_count": 6,
   "metadata": {},
   "outputs": [
    {
     "name": "stderr",
     "output_type": "stream",
     "text": [
      "Warning message:\n",
      "\"Vectorized input to `element_text()` is not officially supported.\n",
      "Results may be unexpected or may change in future versions of ggplot2.\"\n"
     ]
    },
    {
     "data": {
      "image/png": "[encoded data removed]",
      "text/plain": [
       "plot without title"
      ]
     },
     "metadata": {
      "image/png": {
       "height": 420,
       "width": 420
      },
      "text/plain": {
       "height": 420,
       "width": 420
      }
     },
     "output_type": "display_data"
    }
   ],
   "source": [
    "p1=ggsurvplot(survfit(Surv(clinic1$followe.up..years.,clinic1$is_dead)~immune_evasion,clinic1),\n",
    "             pval=\"log rank p = 0.023\\nHR = 1.863(1.081 - 3.211)\", legend=\"none\",\n",
    "             xlab=\"time(years)\",palette = c(\"blue\",\"red\"),pval.size = 6,\n",
    "             font.x=c(20),font.y=c(20),font.xtickslab = c(20),font.ytickslab = c(20),font.legend=c(18), \n",
    "             risk.table = TRUE, risk.table.height=0.2,\n",
    "             risk.table.title=\"\",risk.table.col = \"strata\",risk.table.y.text=FALSE,\n",
    "             tables.theme=theme(axis.title.x=element_blank(),\n",
    "                               axis.text.x=element_blank(),\n",
    "                               axis.title.y=element_blank(),\n",
    "                               axis.line = element_blank(),\n",
    "                               axis.ticks=element_blank(), legend.position = \"none\"))\n",
    "p1"
   ]
  },
  {
   "cell_type": "code",
   "execution_count": 7,
   "metadata": {},
   "outputs": [],
   "source": [
    "#  immune evasion and  effective neoantigens\n",
    "clinic$immune_evasion_effective_neo=rep(-1,nrow(clinic))\n",
    "\n",
    "clinic$immune_evasion_effective_neo[clinic$effective_neo > median(clinic$effective_neo) &\n",
    "                                    clinic$immune_evasion ==\"Low\"]=0\n",
    "clinic$immune_evasion_effective_neo[clinic$effective_neo <= median(clinic$effective_neo) &\n",
    "                                    clinic$immune_evasion ==\"High\"]=1\n",
    "\n",
    "# immune evasion and ITH\n",
    "clinic$immune_evasion_shannon=rep(-1,nrow(clinic))\n",
    "\n",
    "clinic$immune_evasion_shannon[clinic$shannon < median(clinic$shannon) &\n",
    "                                    clinic$immune_evasion ==\"Low\"]=0\n",
    "clinic$immune_evasion_shannon[clinic$shannon > median(clinic$shannon) &\n",
    "                                    clinic$immune_evasion ==\"High\"]=1\n",
    "\n",
    "# immune evasion and raw neoantigens\n",
    "clinic$immune_evasion_raw_neo=rep(-1,nrow(clinic))\n",
    "clinic$immune_evasion_raw_neo[clinic$raw_neo > median(clinic$raw_neo) &\n",
    "                                 clinic$immune_evasion ==\"Low\"]=0\n",
    "clinic$immune_evasion_raw_neo[clinic$raw_neo <= median(clinic$raw_neo) & \n",
    "                                 clinic$immune_evasion ==\"High\"]=1\n",
    "# immune evasion and clonal neoantigen\n",
    "clinic$immune_evasion_clonal_neo=rep(-1,nrow(clinic))\n",
    "clinic$immune_evasion_clonal_neo[clinic$clonal_neo > median(clinic$clonal_neo) &\n",
    "                                 clinic$immune_evasion ==\"Low\"]=0\n",
    "clinic$immune_evasion_clonal_neo[clinic$clonal_neo <= median(clinic$clonal_neo) & \n",
    "                                 clinic$immune_evasion ==\"High\"]=1"
   ]
  },
  {
   "cell_type": "code",
   "execution_count": 8,
   "metadata": {},
   "outputs": [
    {
     "data": {
      "text/plain": [
       "Call:\n",
       "coxph(formula = Surv(dat$followe.up..years., dat$is_dead) ~ immune_evasion_raw_neo, \n",
       "    data = dat)\n",
       "\n",
       "  n= 46, number of events= 20 \n",
       "\n",
       "                          coef exp(coef) se(coef)     z Pr(>|z|)   \n",
       "immune_evasion_raw_neo1 1.3510    3.8613   0.4706 2.871  0.00409 **\n",
       "---\n",
       "Signif. codes:  0 '***' 0.001 '**' 0.01 '*' 0.05 '.' 0.1 ' ' 1\n",
       "\n",
       "                        exp(coef) exp(-coef) lower .95 upper .95\n",
       "immune_evasion_raw_neo1     3.861      0.259     1.535     9.711\n",
       "\n",
       "Concordance= 0.671  (se = 0.051 )\n",
       "Likelihood ratio test= 8.77  on 1 df,   p=0.003\n",
       "Wald test            = 8.24  on 1 df,   p=0.004\n",
       "Score (logrank) test = 9.54  on 1 df,   p=0.002\n"
      ]
     },
     "metadata": {},
     "output_type": "display_data"
    }
   ],
   "source": [
    "dat=subset(clinic,immune_evasion_raw_neo!=-1)\n",
    "dat$immune_evasion_raw_neo=factor(dat$immune_evasion_raw_neo)\n",
    "summary(coxph(Surv(dat$followe.up..years.,dat$is_dead)~immune_evasion_raw_neo,dat))"
   ]
  },
  {
   "cell_type": "code",
   "execution_count": 9,
   "metadata": {},
   "outputs": [
    {
     "name": "stderr",
     "output_type": "stream",
     "text": [
      "Warning message:\n",
      "\"Vectorized input to `element_text()` is not officially supported.\n",
      "Results may be unexpected or may change in future versions of ggplot2.\"\n"
     ]
    },
    {
     "data": {
      "image/png": "[encoded data removed]",
      "text/plain": [
       "plot without title"
      ]
     },
     "metadata": {
      "image/png": {
       "height": 420,
       "width": 420
      },
      "text/plain": {
       "height": 420,
       "width": 420
      }
     },
     "output_type": "display_data"
    }
   ],
   "source": [
    "p2=ggsurvplot(survfit(Surv(dat$followe.up..years.,dat$is_dead)~immune_evasion_raw_neo,dat),\n",
    "              pval=\"log rank p = 0.002\\nHR = 3.861(1.535 - 9.711)\",\n",
    "              legend=\"none\",\n",
    "              xlab=\"time(years)\",palette = c(\"blue\",\"red\"),pval.size = 6,\n",
    "              font.x=c(20),font.y=c(20),font.xtickslab = c(20),font.ytickslab = c(20),font.legend=c(18), \n",
    "              risk.table = TRUE, risk.table.height=0.2,\n",
    "              risk.table.title=\"\",risk.table.col = \"strata\",risk.table.y.text=FALSE,\n",
    "              tables.theme=theme(axis.title.x=element_blank(),\n",
    "                               axis.text.x=element_blank(),\n",
    "                               axis.title.y=element_blank(),\n",
    "                               axis.line = element_blank(),\n",
    "                               axis.ticks=element_blank(), legend.position = \"none\"))\n",
    "p2"
   ]
  },
  {
   "cell_type": "code",
   "execution_count": 10,
   "metadata": {},
   "outputs": [
    {
     "data": {
      "text/plain": [
       "Call:\n",
       "coxph(formula = Surv(dat$followe.up..years., dat$is_dead) ~ immune_evasion_clonal_neo, \n",
       "    data = dat)\n",
       "\n",
       "  n= 50, number of events= 24 \n",
       "\n",
       "                             coef exp(coef) se(coef)    z Pr(>|z|)   \n",
       "immune_evasion_clonal_neo1 1.4583    4.2985   0.4515 3.23  0.00124 **\n",
       "---\n",
       "Signif. codes:  0 '***' 0.001 '**' 0.01 '*' 0.05 '.' 0.1 ' ' 1\n",
       "\n",
       "                           exp(coef) exp(-coef) lower .95 upper .95\n",
       "immune_evasion_clonal_neo1     4.299     0.2326     1.774     10.41\n",
       "\n",
       "Concordance= 0.671  (se = 0.047 )\n",
       "Likelihood ratio test= 11.79  on 1 df,   p=6e-04\n",
       "Wald test            = 10.43  on 1 df,   p=0.001\n",
       "Score (logrank) test = 12.34  on 1 df,   p=4e-04\n"
      ]
     },
     "metadata": {},
     "output_type": "display_data"
    }
   ],
   "source": [
    "dat=subset(clinic,immune_evasion_clonal_neo!=-1)\n",
    "dat$immune_evasion_clonal_neo=factor(dat$immune_evasion_clonal_neo)\n",
    "summary(coxph(Surv(dat$followe.up..years.,dat$is_dead)~immune_evasion_clonal_neo,dat))"
   ]
  },
  {
   "cell_type": "code",
   "execution_count": 11,
   "metadata": {},
   "outputs": [
    {
     "name": "stderr",
     "output_type": "stream",
     "text": [
      "Warning message:\n",
      "\"Vectorized input to `element_text()` is not officially supported.\n",
      "Results may be unexpected or may change in future versions of ggplot2.\"\n"
     ]
    },
    {
     "data": {
      "image/png": "[encoded data removed]",
      "text/plain": [
       "plot without title"
      ]
     },
     "metadata": {
      "image/png": {
       "height": 300,
       "width": 300
      },
      "text/plain": {
       "height": 300,
       "width": 300
      }
     },
     "output_type": "display_data"
    }
   ],
   "source": [
    "p3=ggsurvplot(survfit(Surv(dat$followe.up..years.,dat$is_dead)~immune_evasion_clonal_neo,dat),\n",
    "              pval=\"log rank p = 0.0004\\nHR = 4.299(1.774 - 10.41)\", legend=\"none\",\n",
    "              xlab=\"time(years)\",palette = c(\"blue\",\"red\"),pval.size = 6,\n",
    "              font.x=c(20),font.y=c(20),font.xtickslab = c(20),font.ytickslab = c(20),font.legend=c(18), \n",
    "              risk.table = TRUE, risk.table.height=0.2,\n",
    "              risk.table.title=\"\",risk.table.col = \"strata\",risk.table.y.text=FALSE,\n",
    "              tables.theme=theme(axis.title.x=element_blank(),\n",
    "                               axis.text.x=element_blank(),\n",
    "                               axis.title.y=element_blank(),\n",
    "                               axis.line = element_blank(),\n",
    "                               axis.ticks=element_blank(), legend.position = \"none\"))\n",
    "options(repr.plot.height=5,repr.plot.width=5)\n",
    "p3\n"
   ]
  },
  {
   "cell_type": "code",
   "execution_count": 12,
   "metadata": {},
   "outputs": [
    {
     "data": {
      "text/plain": [
       "Call:\n",
       "coxph(formula = Surv(dat$followe.up..years., dat$is_dead) ~ immune_evasion_shannon, \n",
       "    data = dat)\n",
       "\n",
       "  n= 72, number of events= 38 \n",
       "\n",
       "                          coef exp(coef) se(coef)     z Pr(>|z|)   \n",
       "immune_evasion_shannon1 0.9156    2.4982   0.3297 2.777  0.00549 **\n",
       "---\n",
       "Signif. codes:  0 '***' 0.001 '**' 0.01 '*' 0.05 '.' 0.1 ' ' 1\n",
       "\n",
       "                        exp(coef) exp(-coef) lower .95 upper .95\n",
       "immune_evasion_shannon1     2.498     0.4003     1.309     4.767\n",
       "\n",
       "Concordance= 0.623  (se = 0.039 )\n",
       "Likelihood ratio test= 7.82  on 1 df,   p=0.005\n",
       "Wald test            = 7.71  on 1 df,   p=0.005\n",
       "Score (logrank) test = 8.25  on 1 df,   p=0.004\n"
      ]
     },
     "metadata": {},
     "output_type": "display_data"
    }
   ],
   "source": [
    "dat=subset(clinic,immune_evasion_shannon!=-1)\n",
    "dat$immune_evasion_shannon=factor(dat$immune_evasion_shannon)\n",
    "summary(coxph(Surv(dat$followe.up..years.,dat$is_dead)~immune_evasion_shannon,dat))"
   ]
  },
  {
   "cell_type": "code",
   "execution_count": 13,
   "metadata": {},
   "outputs": [
    {
     "name": "stderr",
     "output_type": "stream",
     "text": [
      "Warning message:\n",
      "\"Vectorized input to `element_text()` is not officially supported.\n",
      "Results may be unexpected or may change in future versions of ggplot2.\"\n"
     ]
    },
    {
     "data": {
      "image/png": "[encoded data removed]",
      "text/plain": [
       "plot without title"
      ]
     },
     "metadata": {
      "image/png": {
       "height": 300,
       "width": 300
      },
      "text/plain": {
       "height": 300,
       "width": 300
      }
     },
     "output_type": "display_data"
    }
   ],
   "source": [
    "\n",
    "p4=ggsurvplot(survfit(Surv(dat$followe.up..years.,dat$is_dead)~immune_evasion_shannon,dat),\n",
    "              pval=\"log rank p = 0.004\\nHR = 2.498(1.309 - 4.767)\",\n",
    "              legend=\"none\",\n",
    "              xlab=\"time(years)\",palette = c(\"blue\",\"red\"),pval.size = 6,\n",
    "              font.x=c(20),font.y=c(20),font.xtickslab = c(20),font.ytickslab = c(20),font.legend=c(18), \n",
    "              risk.table = TRUE, risk.table.height=0.2,\n",
    "              risk.table.title=\"\",risk.table.col = \"strata\",risk.table.y.text=FALSE,\n",
    "              tables.theme=theme(axis.title.x=element_blank(),\n",
    "                               axis.text.x=element_blank(),\n",
    "                               axis.title.y=element_blank(),\n",
    "                               axis.line = element_blank(),\n",
    "                               axis.ticks=element_blank(), legend.position = \"none\"))\n",
    "p4\n"
   ]
  },
  {
   "cell_type": "code",
   "execution_count": null,
   "metadata": {},
   "outputs": [],
   "source": []
  }
 ],
 "metadata": {
  "kernelspec": {
   "display_name": "R",
   "language": "R",
   "name": "ir"
  },
  "language_info": {
   "codemirror_mode": "r",
   "file_extension": ".r",
   "mimetype": "text/x-r-source",
   "name": "R",
   "pygments_lexer": "r",
   "version": "3.6.1"
  }
 },
 "nbformat": 4,
 "nbformat_minor": 4
}
