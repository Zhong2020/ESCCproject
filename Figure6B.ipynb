{
 "cells": [
  {
   "cell_type": "code",
   "execution_count": 1,
   "metadata": {},
   "outputs": [
    {
     "name": "stderr",
     "output_type": "stream",
     "text": [
      "Warning message:\n",
      "\"package 'survival' was built under R version 3.6.3\"\n",
      "Loading required package: ggplot2\n",
      "\n",
      "Warning message:\n",
      "\"package 'ggplot2' was built under R version 3.6.3\"\n",
      "Loading required package: ggpubr\n",
      "\n",
      "Warning message:\n",
      "\"package 'ggpubr' was built under R version 3.6.3\"\n",
      "Loading required package: magrittr\n",
      "\n"
     ]
    }
   ],
   "source": [
    "library(survival)\n",
    "library(survminer)\n",
    "library(ggplot2)"
   ]
  },
  {
   "cell_type": "code",
   "execution_count": 2,
   "metadata": {},
   "outputs": [
    {
     "name": "stderr",
     "output_type": "stream",
     "text": [
      "Warning message in readChar(con, 5L, useBytes = TRUE):\n",
      "\"cannot open compressed file 'data/Figure6B1.rdata', probable reason 'No such file or directory'\"\n"
     ]
    },
    {
     "ename": "ERROR",
     "evalue": "Error in readChar(con, 5L, useBytes = TRUE): cannot open the connection\n",
     "output_type": "error",
     "traceback": [
      "Error in readChar(con, 5L, useBytes = TRUE): cannot open the connection\nTraceback:\n",
      "1. load(\"data/Figure6B1.rdata\")",
      "2. readChar(con, 5L, useBytes = TRUE)"
     ]
    }
   ],
   "source": [
    "load(\"data/Figure6B.rdata\")"
   ]
  },
  {
   "cell_type": "markdown",
   "metadata": {},
   "source": [
    "## calculate nklike and immune evasion"
   ]
  },
  {
   "cell_type": "code",
   "execution_count": null,
   "metadata": {},
   "outputs": [],
   "source": [
    "clinic$nklike=(clinic$NK*2+clinic$CD160)/3\n",
    "clinic$immune_evasion=rep(\"High\",nrow(clinic))\n",
    "clinic$immune_evasion[(clinic$hlaloh==\"No\" & clinic$antigen.defect ==0) |clinic$nklike <= median(clinic$nklike)]=\"Low\""
   ]
  },
  {
   "cell_type": "code",
   "execution_count": null,
   "metadata": {},
   "outputs": [],
   "source": [
    "#immune_evasion and clonal_neoantigens\n",
    "clinic$immune_evasion_clonal_neo=rep(-1,nrow(clinic))\n",
    "clinic$immune_evasion_clonal_neo[clinic$clonal.neoantigen > median(clinic$clonal.neoantigen) &\n",
    "                                 clinic$immune_evasion ==\"Low\"]=0\n",
    "clinic$immune_evasion_clonal_neo[clinic$clonal.neoantigen <= median(clinic$clonal.neoantigen) & \n",
    "                                 clinic$immune_evasion ==\"High\"]=1"
   ]
  },
  {
   "cell_type": "code",
   "execution_count": null,
   "metadata": {},
   "outputs": [],
   "source": [
    "clinic1=clinic\n",
    "clinic1$immune_evasion=factor(clinic1$immune_evasion,levels=c(\"Low\",\"High\"))\n",
    "cox_result=summary(coxph(Surv(clinic1$followe.up..years.,clinic1$is_dead)~immune_evasion,clinic1))\n",
    "cox_result\n",
    "print(cox_result$sctest)"
   ]
  },
  {
   "cell_type": "code",
   "execution_count": null,
   "metadata": {},
   "outputs": [],
   "source": [
    "p1=ggsurvplot(survfit(Surv(clinic1$followe.up..years.,clinic1$is_dead)~immune_evasion,clinic1),\n",
    "             pval=\"log rank p = 0.023\\nHR = 1.863(1.081 - 3.211)\", legend=\"none\",\n",
    "             xlab=\"time(years)\",palette = c(\"blue\",\"red\"),pval.size = 6,\n",
    "             font.x=c(20),font.y=c(20),font.xtickslab = c(20),font.ytickslab = c(20),font.legend=c(18), \n",
    "             risk.table = TRUE, risk.table.height=0.2,\n",
    "             risk.table.title=\"\",risk.table.col = \"strata\",risk.table.y.text=FALSE,\n",
    "             tables.theme=theme(axis.title.x=element_blank(),\n",
    "                               axis.text.x=element_blank(),\n",
    "                               axis.title.y=element_blank(),\n",
    "                               axis.line = element_blank(),\n",
    "                               axis.ticks=element_blank(), legend.position = \"none\"))\n",
    "p1"
   ]
  },
  {
   "cell_type": "code",
   "execution_count": null,
   "metadata": {},
   "outputs": [],
   "source": [
    "#  immune evasion and  effective neoantigens\n",
    "clinic$immune_evasion_effective_neo=rep(-1,nrow(clinic))\n",
    "\n",
    "clinic$immune_evasion_effective_neo[clinic$effective_neo > median(clinic$effective_neo) &\n",
    "                                    clinic$immune_evasion ==\"Low\"]=0\n",
    "clinic$immune_evasion_effective_neo[clinic$effective_neo <= median(clinic$effective_neo) &\n",
    "                                    clinic$immune_evasion ==\"High\"]=1\n",
    "\n",
    "# immune evasion and ITH\n",
    "clinic$immune_evasion_shannon=rep(-1,nrow(clinic))\n",
    "\n",
    "clinic$immune_evasion_shannon[clinic$shannon < median(clinic$shannon) &\n",
    "                                    clinic$immune_evasion ==\"Low\"]=0\n",
    "clinic$immune_evasion_shannon[clinic$shannon > median(clinic$shannon) &\n",
    "                                    clinic$immune_evasion ==\"High\"]=1\n",
    "\n",
    "# immune evasion and raw neoantigens\n",
    "clinic$immune_evasion_raw_neo=rep(-1,nrow(clinic))\n",
    "clinic$immune_evasion_raw_neo[clinic$raw_neo > median(clinic$raw_neo) &\n",
    "                                 clinic$immune_evasion ==\"Low\"]=0\n",
    "clinic$immune_evasion_raw_neo[clinic$raw_neo <= median(clinic$raw_neo) & \n",
    "                                 clinic$immune_evasion ==\"High\"]=1\n",
    "# immune evasion and clonal neoantigen\n",
    "clinic$immune_evasion_clonal_neo=rep(-1,nrow(clinic))\n",
    "clinic$immune_evasion_clonal_neo[clinic$clonal_neo > median(clinic$clonal_neo) &\n",
    "                                 clinic$immune_evasion ==\"Low\"]=0\n",
    "clinic$immune_evasion_clonal_neo[clinic$clonal_neo <= median(clinic$clonal_neo) & \n",
    "                                 clinic$immune_evasion ==\"High\"]=1"
   ]
  },
  {
   "cell_type": "code",
   "execution_count": null,
   "metadata": {},
   "outputs": [],
   "source": [
    "dat=subset(clinic,immune_evasion_raw_neo!=-1)\n",
    "dat$immune_evasion_raw_neo=factor(dat$immune_evasion_raw_neo)\n",
    "summary(coxph(Surv(dat$followe.up..years.,dat$is_dead)~immune_evasion_raw_neo,dat))"
   ]
  },
  {
   "cell_type": "code",
   "execution_count": null,
   "metadata": {},
   "outputs": [],
   "source": [
    "p2=ggsurvplot(survfit(Surv(dat$followe.up..years.,dat$is_dead)~immune_evasion_raw_neo,dat),\n",
    "              pval=\"log rank p = 0.002\\nHR = 3.861(1.535 - 9.711)\",\n",
    "              legend=\"none\",\n",
    "              xlab=\"time(years)\",palette = c(\"blue\",\"red\"),pval.size = 6,\n",
    "              font.x=c(20),font.y=c(20),font.xtickslab = c(20),font.ytickslab = c(20),font.legend=c(18), \n",
    "              risk.table = TRUE, risk.table.height=0.2,\n",
    "              risk.table.title=\"\",risk.table.col = \"strata\",risk.table.y.text=FALSE,\n",
    "              tables.theme=theme(axis.title.x=element_blank(),\n",
    "                               axis.text.x=element_blank(),\n",
    "                               axis.title.y=element_blank(),\n",
    "                               axis.line = element_blank(),\n",
    "                               axis.ticks=element_blank(), legend.position = \"none\"))\n",
    "p2"
   ]
  },
  {
   "cell_type": "code",
   "execution_count": null,
   "metadata": {},
   "outputs": [],
   "source": [
    "dat=subset(clinic,immune_evasion_clonal_neo!=-1)\n",
    "dat$immune_evasion_clonal_neo=factor(dat$immune_evasion_clonal_neo)\n",
    "summary(coxph(Surv(dat$followe.up..years.,dat$is_dead)~immune_evasion_clonal_neo,dat))"
   ]
  },
  {
   "cell_type": "code",
   "execution_count": null,
   "metadata": {},
   "outputs": [],
   "source": [
    "p3=ggsurvplot(survfit(Surv(dat$followe.up..years.,dat$is_dead)~immune_evasion_clonal_neo,dat),\n",
    "              pval=\"log rank p = 0.0004\\nHR = 4.299(1.774 - 10.41)\", legend=\"none\",\n",
    "              xlab=\"time(years)\",palette = c(\"blue\",\"red\"),pval.size = 6,\n",
    "              font.x=c(20),font.y=c(20),font.xtickslab = c(20),font.ytickslab = c(20),font.legend=c(18), \n",
    "              risk.table = TRUE, risk.table.height=0.2,\n",
    "              risk.table.title=\"\",risk.table.col = \"strata\",risk.table.y.text=FALSE,\n",
    "              tables.theme=theme(axis.title.x=element_blank(),\n",
    "                               axis.text.x=element_blank(),\n",
    "                               axis.title.y=element_blank(),\n",
    "                               axis.line = element_blank(),\n",
    "                               axis.ticks=element_blank(), legend.position = \"none\"))\n",
    "options(repr.plot.height=5,repr.plot.width=5)\n",
    "p3\n"
   ]
  },
  {
   "cell_type": "code",
   "execution_count": null,
   "metadata": {},
   "outputs": [],
   "source": [
    "dat=subset(clinic,immune_evasion_shannon!=-1)\n",
    "dat$immune_evasion_shannon=factor(dat$immune_evasion_shannon)\n",
    "summary(coxph(Surv(dat$followe.up..years.,dat$is_dead)~immune_evasion_shannon,dat))"
   ]
  },
  {
   "cell_type": "code",
   "execution_count": null,
   "metadata": {},
   "outputs": [],
   "source": [
    "\n",
    "p4=ggsurvplot(survfit(Surv(dat$followe.up..years.,dat$is_dead)~immune_evasion_shannon,dat),\n",
    "              pval=\"log rank p = 0.004\\nHR = 2.498(1.309 - 4.767)\",\n",
    "              legend=\"none\",\n",
    "              xlab=\"time(years)\",palette = c(\"blue\",\"red\"),pval.size = 6,\n",
    "              font.x=c(20),font.y=c(20),font.xtickslab = c(20),font.ytickslab = c(20),font.legend=c(18), \n",
    "              risk.table = TRUE, risk.table.height=0.2,\n",
    "              risk.table.title=\"\",risk.table.col = \"strata\",risk.table.y.text=FALSE,\n",
    "              tables.theme=theme(axis.title.x=element_blank(),\n",
    "                               axis.text.x=element_blank(),\n",
    "                               axis.title.y=element_blank(),\n",
    "                               axis.line = element_blank(),\n",
    "                               axis.ticks=element_blank(), legend.position = \"none\"))\n",
    "p4\n"
   ]
  },
  {
   "cell_type": "code",
   "execution_count": null,
   "metadata": {},
   "outputs": [],
   "source": []
  }
 ],
 "metadata": {
  "kernelspec": {
   "display_name": "R",
   "language": "R",
   "name": "ir"
  },
  "language_info": {
   "codemirror_mode": "r",
   "file_extension": ".r",
   "mimetype": "text/x-r-source",
   "name": "R",
   "pygments_lexer": "r",
   "version": "3.6.1"
  }
 },
 "nbformat": 4,
 "nbformat_minor": 4
}
